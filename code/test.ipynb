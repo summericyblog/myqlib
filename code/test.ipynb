{
 "cells": [
  {
   "cell_type": "code",
   "execution_count": 1,
   "metadata": {},
   "outputs": [
    {
     "name": "stderr",
     "output_type": "stream",
     "text": [
      "[11928:MainThread](2023-06-28 19:48:53,942) INFO - qlib.Initialization - [config.py:417] - default_conf: client.\n",
      "[11928:MainThread](2023-06-28 19:48:58,132) INFO - qlib.Initialization - [__init__.py:74] - qlib successfully initialized based on client settings.\n",
      "[11928:MainThread](2023-06-28 19:48:58,133) INFO - qlib.Initialization - [__init__.py:76] - data_path={'__DEFAULT_FREQ': WindowsPath('D:/projects/qlib/data/cn_data')}\n"
     ]
    }
   ],
   "source": [
    "import qlib\n",
    "\n",
    "us_data = \"../data/us_data\"\n",
    "cn_data = \"../data/cn_data/\"\n",
    "\n",
    "qlib.init(provider_uri=cn_data)"
   ]
  },
  {
   "cell_type": "code",
   "execution_count": 2,
   "metadata": {},
   "outputs": [
    {
     "data": {
      "text/plain": [
       "array([], dtype=float64)"
      ]
     },
     "execution_count": 2,
     "metadata": {},
     "output_type": "execute_result"
    }
   ],
   "source": [
    "from qlib.data import D\n",
    "\n",
    "D.calendar(start_time=\"2010-10-01\", end_time=\"2017-12-31\", freq=\"day\")[:5]"
   ]
  },
  {
   "cell_type": "code",
   "execution_count": 23,
   "metadata": {},
   "outputs": [
    {
     "data": {
      "text/plain": [
       "'                         $close      $volume  Ref($close, 1)  Mean($close, 3)  $high-$low\\ninstrument datetime                                                                      \\nSH600000   2010-01-04  4.260015  329246208.0        4.360537         4.323008    0.142738\\n           2010-01-05  4.292182  572764224.0        4.260015         4.304245    0.158820\\n           2010-01-06  4.207747  481411872.0        4.292182         4.253314    0.084436\\n           2010-01-07  4.113258  423977760.0        4.207747         4.204396    0.148772\\n           2010-01-08  4.159496  326840288.0        4.113258         4.160167    0.100523'"
      ]
     },
     "execution_count": 23,
     "metadata": {},
     "output_type": "execute_result"
    }
   ],
   "source": [
    "from qlib.data import D\n",
    "from qlib.data.filter import NameDFilter\n",
    "\n",
    "instruments = [\"SH600000\"]\n",
    "fields = [\n",
    "    \"$close\",\n",
    "    \"$volume\",\n",
    "    \"Ref($close, 1)\",\n",
    "    \"Mean($close, 3)\",\n",
    "    \"$high-$low\",\n",
    "]\n",
    "D.features(\n",
    "    instruments,\n",
    "    fields,\n",
    "    start_time=\"2010-01-01\",\n",
    "    end_time=\"2017-12-31\",\n",
    "    freq=\"day\",\n",
    ").head().to_string()"
   ]
  }
 ],
 "metadata": {
  "kernelspec": {
   "display_name": "venv",
   "language": "python",
   "name": "python3"
  },
  "language_info": {
   "codemirror_mode": {
    "name": "ipython",
    "version": 3
   },
   "file_extension": ".py",
   "mimetype": "text/x-python",
   "name": "python",
   "nbconvert_exporter": "python",
   "pygments_lexer": "ipython3",
   "version": "3.8.10"
  },
  "orig_nbformat": 4
 },
 "nbformat": 4,
 "nbformat_minor": 2
}
