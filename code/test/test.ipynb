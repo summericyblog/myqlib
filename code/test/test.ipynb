{
 "cells": [
  {
   "cell_type": "code",
   "execution_count": 1,
   "metadata": {},
   "outputs": [
    {
     "name": "stderr",
     "output_type": "stream",
     "text": [
      "[4596:MainThread](2023-07-16 11:07:54,351) INFO - qlib.Initialization - [config.py:417] - default_conf: client.\n",
      "[4596:MainThread](2023-07-16 11:07:59,612) INFO - qlib.Initialization - [__init__.py:74] - qlib successfully initialized based on client settings.\n",
      "[4596:MainThread](2023-07-16 11:07:59,614) INFO - qlib.Initialization - [__init__.py:76] - data_path={'__DEFAULT_FREQ': WindowsPath('D:/projects/qlib/data/cn_data')}\n"
     ]
    }
   ],
   "source": [
    "import qlib\n",
    "\n",
    "us_data = \"../../data/us_data\"\n",
    "cn_data = \"../../data/cn_data/\"\n",
    "\n",
    "qlib.init(provider_uri=cn_data)"
   ]
  },
  {
   "cell_type": "code",
   "execution_count": 7,
   "metadata": {},
   "outputs": [
    {
     "name": "stdout",
     "output_type": "stream",
     "text": [
      "                         $close       $volume     $open     $high      $low  \\\n",
      "instrument datetime                                                           \n",
      "SZ300891   2020-09-22  0.843832  6.129917e+08  0.861767  0.886264  0.823272   \n",
      "           2020-09-23  0.851269  6.875450e+08  0.842520  0.883640  0.832458   \n",
      "           2020-09-24  0.815398  7.112888e+08  0.818023  0.850831  0.787839   \n",
      "           2020-09-25  0.765967  4.679053e+08  0.801400  0.824584  0.765092   \n",
      "SZ300892   2020-09-24  1.000000  1.268675e+09  0.922572  1.076115  0.919948   \n",
      "           2020-09-25  0.853018  9.461924e+08  0.959318  0.995801  0.853018   \n",
      "SZ300893   2020-09-24  1.000000  6.575699e+08  0.986135  1.094624  0.985162   \n",
      "           2020-09-25  1.029433  6.393720e+08  0.997324  1.182681  0.937485   \n",
      "SZ300895   2020-09-24  1.000000  1.167353e+09  1.027496  1.099855  0.999566   \n",
      "           2020-09-25  0.867873  9.041955e+08  0.969609  1.009262  0.861071   \n",
      "\n",
      "                        $factor   $change  \n",
      "instrument datetime                        \n",
      "SZ300891   2020-09-22  0.043745 -0.031626  \n",
      "           2020-09-23  0.043745  0.008813  \n",
      "           2020-09-24  0.043745 -0.042138  \n",
      "           2020-09-25  0.043745 -0.060622  \n",
      "SZ300892   2020-09-24  0.013123       NaN  \n",
      "           2020-09-25  0.013123 -0.146982  \n",
      "SZ300893   2020-09-24  0.024325       NaN  \n",
      "           2020-09-25  0.024325  0.029433  \n",
      "SZ300895   2020-09-24  0.014472       NaN  \n",
      "           2020-09-25  0.014472 -0.132127  \n"
     ]
    }
   ],
   "source": [
    "from qlib.data import D\n",
    "\n",
    "dh = D.features(\n",
    "    D.instruments(market=\"all\"),\n",
    "    [\"$close\", \"$volume\", \"$open\", \"$high\", \"$low\", \"$factor\", \"$change\"],\n",
    "    freq=\"day\",\n",
    ")[-10:]\n",
    "print(dh)"
   ]
  },
  {
   "cell_type": "code",
   "execution_count": 23,
   "metadata": {},
   "outputs": [
    {
     "data": {
      "text/plain": [
       "'                         $close      $volume  Ref($close, 1)  Mean($close, 3)  $high-$low\\ninstrument datetime                                                                      \\nSH600000   2010-01-04  4.260015  329246208.0        4.360537         4.323008    0.142738\\n           2010-01-05  4.292182  572764224.0        4.260015         4.304245    0.158820\\n           2010-01-06  4.207747  481411872.0        4.292182         4.253314    0.084436\\n           2010-01-07  4.113258  423977760.0        4.207747         4.204396    0.148772\\n           2010-01-08  4.159496  326840288.0        4.113258         4.160167    0.100523'"
      ]
     },
     "execution_count": 23,
     "metadata": {},
     "output_type": "execute_result"
    }
   ],
   "source": [
    "from qlib.data import D\n",
    "from qlib.data.filter import NameDFilter\n",
    "\n",
    "instruments = [\"SH600000\"]\n",
    "fields = [\n",
    "    \"$close\",\n",
    "    \"$volume\",\n",
    "    \"Ref($close, 1)\",\n",
    "    \"Mean($close, 3)\",\n",
    "    \"$high-$low\",\n",
    "]\n",
    "D.features(\n",
    "    instruments,\n",
    "    fields,\n",
    "    start_time=\"2010-01-01\",\n",
    "    end_time=\"2017-12-31\",\n",
    "    freq=\"day\",\n",
    ").head().to_string()"
   ]
  }
 ],
 "metadata": {
  "kernelspec": {
   "display_name": "venv",
   "language": "python",
   "name": "python3"
  },
  "language_info": {
   "codemirror_mode": {
    "name": "ipython",
    "version": 3
   },
   "file_extension": ".py",
   "mimetype": "text/x-python",
   "name": "python",
   "nbconvert_exporter": "python",
   "pygments_lexer": "ipython3",
   "version": "3.8.10"
  },
  "orig_nbformat": 4
 },
 "nbformat": 4,
 "nbformat_minor": 2
}
