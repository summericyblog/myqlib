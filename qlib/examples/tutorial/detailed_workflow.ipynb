{
 "cells": [
  {
   "cell_type": "code",
   "execution_count": null,
   "id": "2ac18d8f",
   "metadata": {},
   "outputs": [],
   "source": [
    "#  Copyright (c) Microsoft Corporation.\n",
    "#  Licensed under the MIT License."
   ]
  },
  {
   "attachments": {},
   "cell_type": "markdown",
   "id": "096c6260",
   "metadata": {},
   "source": [
    "# Introduction\n",
    "\n",
    "Though users can automatically run the whole Quant research worklfow based on\n",
    "configurations with Qlib.\n",
    "\n",
    "Some advanced users usally would like to carefully customize each component to\n",
    "explore more in Quant.\n",
    "\n",
    "If you just want a simple example of Qlib.\n",
    "[Quick start](https://github.com/microsoft/qlib#quick-start) and\n",
    "[workflow_by_code](https://github.com/microsoft/qlib/blob/main/examples/workflow_by_code.ipynb)\n",
    "may be a better choice for you.\n",
    "\n",
    "If you want to know more details about Quant research, this notebook may be a\n",
    "better place for you to start.\n",
    "\n",
    "We hope this script could be a tutorial for users who are interested in the\n",
    "details of Quant.\n",
    "\n",
    "This notebook tries to demonstrate how can we use Qlib to build components step\n",
    "by step.\n"
   ]
  },
  {
   "cell_type": "code",
   "execution_count": 1,
   "id": "b96a4196",
   "metadata": {},
   "outputs": [],
   "source": [
    "from pprint import pprint\n",
    "from pathlib import Path\n",
    "import pandas as pd"
   ]
  },
  {
   "cell_type": "code",
   "execution_count": 2,
   "id": "9e707694",
   "metadata": {},
   "outputs": [],
   "source": [
    "MARKET = \"csi300\"\n",
    "BENCHMARK = \"SH000300\"\n",
    "EXP_NAME = \"tutorial_exp\""
   ]
  },
  {
   "attachments": {},
   "cell_type": "markdown",
   "id": "ff16a42b",
   "metadata": {},
   "source": [
    "# Data\n"
   ]
  },
  {
   "attachments": {},
   "cell_type": "markdown",
   "id": "df055d7d",
   "metadata": {},
   "source": [
    "## Get data\n"
   ]
  },
  {
   "attachments": {},
   "cell_type": "markdown",
   "id": "e9898c23",
   "metadata": {},
   "source": [
    "Users can follow\n",
    "[the steps](https://github.com/microsoft/qlib/tree/main/scripts#download-qlib-data)\n",
    "to download data with CLI.\n",
    "\n",
    "In this example we use the underlying API to automatically download data\n"
   ]
  },
  {
   "cell_type": "code",
   "execution_count": null,
   "id": "a0bcfa97",
   "metadata": {},
   "outputs": [],
   "source": [
    "from qlib.tests.data import GetData\n",
    "\n",
    "GetData().qlib_data(exists_skip=True)"
   ]
  },
  {
   "cell_type": "code",
   "execution_count": 10,
   "id": "42b89646",
   "metadata": {},
   "outputs": [
    {
     "name": "stderr",
     "output_type": "stream",
     "text": [
      "[13920:MainThread](2023-06-28 11:17:04,288) INFO - qlib.Initialization - [config.py:417] - default_conf: client.\n",
      "[13920:MainThread](2023-06-28 11:17:04,291) INFO - qlib.Initialization - [__init__.py:74] - qlib successfully initialized based on client settings.\n",
      "[13920:MainThread](2023-06-28 11:17:04,292) INFO - qlib.Initialization - [__init__.py:76] - data_path={'__DEFAULT_FREQ': WindowsPath('D:/projects/qlib/data/cn_data')}\n"
     ]
    }
   ],
   "source": [
    "import qlib\n",
    "\n",
    "qlib.init(provider_uri='../../../data/cn_data/')"
   ]
  },
  {
   "attachments": {},
   "cell_type": "markdown",
   "id": "90080d29",
   "metadata": {},
   "source": [
    "## Inspect raw data\n"
   ]
  },
  {
   "attachments": {},
   "cell_type": "markdown",
   "id": "413e99b8",
   "metadata": {},
   "source": [
    "Currently, Qlib support several kinds of data source.\n"
   ]
  },
  {
   "attachments": {},
   "cell_type": "markdown",
   "id": "ecf241e9",
   "metadata": {},
   "source": [
    "### Calendar\n"
   ]
  },
  {
   "cell_type": "code",
   "execution_count": 4,
   "id": "0c386f38",
   "metadata": {},
   "outputs": [
    {
     "name": "stdout",
     "output_type": "stream",
     "text": [
      "[Timestamp('2010-01-04 00:00:00') Timestamp('2010-01-05 00:00:00')]\n"
     ]
    }
   ],
   "source": [
    "from qlib.data import D\n",
    "\n",
    "print(D.calendar(start_time=\"2010-01-01\", end_time=\"2017-12-31\", freq=\"day\")[:2])  # calendar data"
   ]
  },
  {
   "attachments": {},
   "cell_type": "markdown",
   "id": "f436b49d",
   "metadata": {},
   "source": [
    "### Basic data\n"
   ]
  },
  {
   "cell_type": "code",
   "execution_count": 11,
   "id": "a889b763",
   "metadata": {},
   "outputs": [
    {
     "data": {
      "text/html": [
       "<div>\n",
       "<style scoped>\n",
       "    .dataframe tbody tr th:only-of-type {\n",
       "        vertical-align: middle;\n",
       "    }\n",
       "\n",
       "    .dataframe tbody tr th {\n",
       "        vertical-align: top;\n",
       "    }\n",
       "\n",
       "    .dataframe thead th {\n",
       "        text-align: right;\n",
       "    }\n",
       "</style>\n",
       "<table border=\"1\" class=\"dataframe\">\n",
       "  <thead>\n",
       "    <tr style=\"text-align: right;\">\n",
       "      <th></th>\n",
       "      <th></th>\n",
       "      <th>$open</th>\n",
       "      <th>$high</th>\n",
       "      <th>$low</th>\n",
       "      <th>$close</th>\n",
       "      <th>$factor</th>\n",
       "    </tr>\n",
       "    <tr>\n",
       "      <th>instrument</th>\n",
       "      <th>datetime</th>\n",
       "      <th></th>\n",
       "      <th></th>\n",
       "      <th></th>\n",
       "      <th></th>\n",
       "      <th></th>\n",
       "    </tr>\n",
       "  </thead>\n",
       "  <tbody>\n",
       "    <tr>\n",
       "      <th rowspan=\"18\" valign=\"top\">SH601216</th>\n",
       "      <th>2020-05-06</th>\n",
       "      <td>1.400656</td>\n",
       "      <td>1.430144</td>\n",
       "      <td>1.385912</td>\n",
       "      <td>1.420314</td>\n",
       "      <td>0.491458</td>\n",
       "    </tr>\n",
       "    <tr>\n",
       "      <th>2020-05-07</th>\n",
       "      <td>1.420314</td>\n",
       "      <td>1.420314</td>\n",
       "      <td>1.400656</td>\n",
       "      <td>1.405571</td>\n",
       "      <td>0.491458</td>\n",
       "    </tr>\n",
       "    <tr>\n",
       "      <th>2020-05-08</th>\n",
       "      <td>1.410485</td>\n",
       "      <td>1.425229</td>\n",
       "      <td>1.405571</td>\n",
       "      <td>1.410485</td>\n",
       "      <td>0.491458</td>\n",
       "    </tr>\n",
       "    <tr>\n",
       "      <th>2020-05-11</th>\n",
       "      <td>1.415400</td>\n",
       "      <td>1.420314</td>\n",
       "      <td>1.405571</td>\n",
       "      <td>1.410485</td>\n",
       "      <td>0.491458</td>\n",
       "    </tr>\n",
       "    <tr>\n",
       "      <th>2020-05-12</th>\n",
       "      <td>1.410485</td>\n",
       "      <td>1.420314</td>\n",
       "      <td>1.405571</td>\n",
       "      <td>1.410485</td>\n",
       "      <td>0.491458</td>\n",
       "    </tr>\n",
       "    <tr>\n",
       "      <th>2020-05-13</th>\n",
       "      <td>1.410485</td>\n",
       "      <td>1.410485</td>\n",
       "      <td>1.400656</td>\n",
       "      <td>1.410485</td>\n",
       "      <td>0.491458</td>\n",
       "    </tr>\n",
       "    <tr>\n",
       "      <th>2020-05-14</th>\n",
       "      <td>1.405571</td>\n",
       "      <td>1.410485</td>\n",
       "      <td>1.390827</td>\n",
       "      <td>1.390827</td>\n",
       "      <td>0.491458</td>\n",
       "    </tr>\n",
       "    <tr>\n",
       "      <th>2020-05-15</th>\n",
       "      <td>1.395741</td>\n",
       "      <td>1.400656</td>\n",
       "      <td>1.376083</td>\n",
       "      <td>1.380998</td>\n",
       "      <td>0.491458</td>\n",
       "    </tr>\n",
       "    <tr>\n",
       "      <th>2020-05-18</th>\n",
       "      <td>1.390827</td>\n",
       "      <td>1.410485</td>\n",
       "      <td>1.380998</td>\n",
       "      <td>1.390827</td>\n",
       "      <td>0.491458</td>\n",
       "    </tr>\n",
       "    <tr>\n",
       "      <th>2020-05-19</th>\n",
       "      <td>1.395741</td>\n",
       "      <td>1.405571</td>\n",
       "      <td>1.385912</td>\n",
       "      <td>1.390827</td>\n",
       "      <td>0.491458</td>\n",
       "    </tr>\n",
       "    <tr>\n",
       "      <th>2020-05-20</th>\n",
       "      <td>1.415400</td>\n",
       "      <td>1.474375</td>\n",
       "      <td>1.415400</td>\n",
       "      <td>1.454716</td>\n",
       "      <td>0.491458</td>\n",
       "    </tr>\n",
       "    <tr>\n",
       "      <th>2020-05-21</th>\n",
       "      <td>1.464546</td>\n",
       "      <td>1.474375</td>\n",
       "      <td>1.444887</td>\n",
       "      <td>1.454716</td>\n",
       "      <td>0.491458</td>\n",
       "    </tr>\n",
       "    <tr>\n",
       "      <th>2020-05-22</th>\n",
       "      <td>1.454716</td>\n",
       "      <td>1.459631</td>\n",
       "      <td>1.430144</td>\n",
       "      <td>1.454716</td>\n",
       "      <td>0.491458</td>\n",
       "    </tr>\n",
       "    <tr>\n",
       "      <th>2020-05-25</th>\n",
       "      <td>1.469460</td>\n",
       "      <td>1.479289</td>\n",
       "      <td>1.444887</td>\n",
       "      <td>1.469460</td>\n",
       "      <td>0.491458</td>\n",
       "    </tr>\n",
       "    <tr>\n",
       "      <th>2020-05-26</th>\n",
       "      <td>1.463894</td>\n",
       "      <td>1.463894</td>\n",
       "      <td>1.397100</td>\n",
       "      <td>1.419365</td>\n",
       "      <td>0.556614</td>\n",
       "    </tr>\n",
       "    <tr>\n",
       "      <th>2020-05-27</th>\n",
       "      <td>1.408233</td>\n",
       "      <td>1.413799</td>\n",
       "      <td>1.380402</td>\n",
       "      <td>1.385968</td>\n",
       "      <td>0.556614</td>\n",
       "    </tr>\n",
       "    <tr>\n",
       "      <th>2020-05-28</th>\n",
       "      <td>1.374836</td>\n",
       "      <td>1.402666</td>\n",
       "      <td>1.374836</td>\n",
       "      <td>1.385968</td>\n",
       "      <td>0.556614</td>\n",
       "    </tr>\n",
       "    <tr>\n",
       "      <th>2020-05-29</th>\n",
       "      <td>1.385968</td>\n",
       "      <td>1.385968</td>\n",
       "      <td>1.369270</td>\n",
       "      <td>1.380402</td>\n",
       "      <td>0.556614</td>\n",
       "    </tr>\n",
       "  </tbody>\n",
       "</table>\n",
       "</div>"
      ],
      "text/plain": [
       "                          $open     $high      $low    $close   $factor\n",
       "instrument datetime                                                    \n",
       "SH601216   2020-05-06  1.400656  1.430144  1.385912  1.420314  0.491458\n",
       "           2020-05-07  1.420314  1.420314  1.400656  1.405571  0.491458\n",
       "           2020-05-08  1.410485  1.425229  1.405571  1.410485  0.491458\n",
       "           2020-05-11  1.415400  1.420314  1.405571  1.410485  0.491458\n",
       "           2020-05-12  1.410485  1.420314  1.405571  1.410485  0.491458\n",
       "           2020-05-13  1.410485  1.410485  1.400656  1.410485  0.491458\n",
       "           2020-05-14  1.405571  1.410485  1.390827  1.390827  0.491458\n",
       "           2020-05-15  1.395741  1.400656  1.376083  1.380998  0.491458\n",
       "           2020-05-18  1.390827  1.410485  1.380998  1.390827  0.491458\n",
       "           2020-05-19  1.395741  1.405571  1.385912  1.390827  0.491458\n",
       "           2020-05-20  1.415400  1.474375  1.415400  1.454716  0.491458\n",
       "           2020-05-21  1.464546  1.474375  1.444887  1.454716  0.491458\n",
       "           2020-05-22  1.454716  1.459631  1.430144  1.454716  0.491458\n",
       "           2020-05-25  1.469460  1.479289  1.444887  1.469460  0.491458\n",
       "           2020-05-26  1.463894  1.463894  1.397100  1.419365  0.556614\n",
       "           2020-05-27  1.408233  1.413799  1.380402  1.385968  0.556614\n",
       "           2020-05-28  1.374836  1.402666  1.374836  1.385968  0.556614\n",
       "           2020-05-29  1.385968  1.385968  1.369270  1.380402  0.556614"
      ]
     },
     "execution_count": 11,
     "metadata": {},
     "output_type": "execute_result"
    }
   ],
   "source": [
    "df = D.features(\n",
    "    [\"SH601216\"],\n",
    "    [\"$open\", \"$high\", \"$low\", \"$close\", \"$factor\"],\n",
    "    start_time=\"2020-05-01\",\n",
    "    end_time=\"2020-05-31\",\n",
    ")\n",
    "df"
   ]
  },
  {
   "cell_type": "code",
   "execution_count": 6,
   "id": "eceb43c8",
   "metadata": {},
   "outputs": [
    {
     "data": {
      "application/vnd.plotly.v1+json": {
       "config": {
        "plotlyServerURL": "https://plot.ly"
       },
       "data": [
        {
         "close": [
          1.4203144311904907,
          1.4055705070495605,
          1.410485029220581,
          1.410485029220581,
          1.410485029220581,
          1.410485029220581,
          1.39082670211792,
          1.380997657775879,
          1.39082670211792,
          1.39082670211792,
          1.454716444015503,
          1.454716444015503,
          1.454716444015503,
          1.4694602489471436,
          1.4193649291992188,
          1.3859680891036987,
          1.3859680891036987,
          1.3804019689559937
         ],
         "high": [
          1.4301435947418213,
          1.4203143119812012,
          1.4252289533615112,
          1.4203143119812012,
          1.4203143119812012,
          1.410485029220581,
          1.410485029220581,
          1.40065598487854,
          1.410485029220581,
          1.4055705070495605,
          1.474374771118164,
          1.474374771118164,
          1.4596309661865234,
          1.4792892932891846,
          1.463894009590149,
          1.4137986898422241,
          1.402666449546814,
          1.3859680891036987
         ],
         "low": [
          1.3859121799468994,
          1.40065598487854,
          1.4055705070495605,
          1.4055705070495605,
          1.4055705070495605,
          1.4006558656692505,
          1.39082670211792,
          1.3760831356048584,
          1.380997657775879,
          1.3859121799468994,
          1.4153997898101807,
          1.4448872804641724,
          1.4301435947418213,
          1.4448872804641724,
          1.3971003293991089,
          1.3804019689559937,
          1.3748358488082886,
          1.3692697286605835
         ],
         "open": [
          1.40065598487854,
          1.4203143119812012,
          1.410485029220581,
          1.4153997898101807,
          1.410485029220581,
          1.410485029220581,
          1.4055705070495605,
          1.3957414627075195,
          1.39082670211792,
          1.39574134349823,
          1.4153997898101807,
          1.4645456075668335,
          1.454716444015503,
          1.4694602489471436,
          1.463894009590149,
          1.408232569694519,
          1.3748358488082886,
          1.3859680891036987
         ],
         "type": "candlestick",
         "x": [
          "2020-05-06T00:00:00",
          "2020-05-07T00:00:00",
          "2020-05-08T00:00:00",
          "2020-05-11T00:00:00",
          "2020-05-12T00:00:00",
          "2020-05-13T00:00:00",
          "2020-05-14T00:00:00",
          "2020-05-15T00:00:00",
          "2020-05-18T00:00:00",
          "2020-05-19T00:00:00",
          "2020-05-20T00:00:00",
          "2020-05-21T00:00:00",
          "2020-05-22T00:00:00",
          "2020-05-25T00:00:00",
          "2020-05-26T00:00:00",
          "2020-05-27T00:00:00",
          "2020-05-28T00:00:00",
          "2020-05-29T00:00:00"
         ]
        }
       ],
       "layout": {
        "template": {
         "data": {
          "bar": [
           {
            "error_x": {
             "color": "#2a3f5f"
            },
            "error_y": {
             "color": "#2a3f5f"
            },
            "marker": {
             "line": {
              "color": "#E5ECF6",
              "width": 0.5
             },
             "pattern": {
              "fillmode": "overlay",
              "size": 10,
              "solidity": 0.2
             }
            },
            "type": "bar"
           }
          ],
          "barpolar": [
           {
            "marker": {
             "line": {
              "color": "#E5ECF6",
              "width": 0.5
             },
             "pattern": {
              "fillmode": "overlay",
              "size": 10,
              "solidity": 0.2
             }
            },
            "type": "barpolar"
           }
          ],
          "carpet": [
           {
            "aaxis": {
             "endlinecolor": "#2a3f5f",
             "gridcolor": "white",
             "linecolor": "white",
             "minorgridcolor": "white",
             "startlinecolor": "#2a3f5f"
            },
            "baxis": {
             "endlinecolor": "#2a3f5f",
             "gridcolor": "white",
             "linecolor": "white",
             "minorgridcolor": "white",
             "startlinecolor": "#2a3f5f"
            },
            "type": "carpet"
           }
          ],
          "choropleth": [
           {
            "colorbar": {
             "outlinewidth": 0,
             "ticks": ""
            },
            "type": "choropleth"
           }
          ],
          "contour": [
           {
            "colorbar": {
             "outlinewidth": 0,
             "ticks": ""
            },
            "colorscale": [
             [
              0,
              "#0d0887"
             ],
             [
              0.1111111111111111,
              "#46039f"
             ],
             [
              0.2222222222222222,
              "#7201a8"
             ],
             [
              0.3333333333333333,
              "#9c179e"
             ],
             [
              0.4444444444444444,
              "#bd3786"
             ],
             [
              0.5555555555555556,
              "#d8576b"
             ],
             [
              0.6666666666666666,
              "#ed7953"
             ],
             [
              0.7777777777777778,
              "#fb9f3a"
             ],
             [
              0.8888888888888888,
              "#fdca26"
             ],
             [
              1,
              "#f0f921"
             ]
            ],
            "type": "contour"
           }
          ],
          "contourcarpet": [
           {
            "colorbar": {
             "outlinewidth": 0,
             "ticks": ""
            },
            "type": "contourcarpet"
           }
          ],
          "heatmap": [
           {
            "colorbar": {
             "outlinewidth": 0,
             "ticks": ""
            },
            "colorscale": [
             [
              0,
              "#0d0887"
             ],
             [
              0.1111111111111111,
              "#46039f"
             ],
             [
              0.2222222222222222,
              "#7201a8"
             ],
             [
              0.3333333333333333,
              "#9c179e"
             ],
             [
              0.4444444444444444,
              "#bd3786"
             ],
             [
              0.5555555555555556,
              "#d8576b"
             ],
             [
              0.6666666666666666,
              "#ed7953"
             ],
             [
              0.7777777777777778,
              "#fb9f3a"
             ],
             [
              0.8888888888888888,
              "#fdca26"
             ],
             [
              1,
              "#f0f921"
             ]
            ],
            "type": "heatmap"
           }
          ],
          "heatmapgl": [
           {
            "colorbar": {
             "outlinewidth": 0,
             "ticks": ""
            },
            "colorscale": [
             [
              0,
              "#0d0887"
             ],
             [
              0.1111111111111111,
              "#46039f"
             ],
             [
              0.2222222222222222,
              "#7201a8"
             ],
             [
              0.3333333333333333,
              "#9c179e"
             ],
             [
              0.4444444444444444,
              "#bd3786"
             ],
             [
              0.5555555555555556,
              "#d8576b"
             ],
             [
              0.6666666666666666,
              "#ed7953"
             ],
             [
              0.7777777777777778,
              "#fb9f3a"
             ],
             [
              0.8888888888888888,
              "#fdca26"
             ],
             [
              1,
              "#f0f921"
             ]
            ],
            "type": "heatmapgl"
           }
          ],
          "histogram": [
           {
            "marker": {
             "pattern": {
              "fillmode": "overlay",
              "size": 10,
              "solidity": 0.2
             }
            },
            "type": "histogram"
           }
          ],
          "histogram2d": [
           {
            "colorbar": {
             "outlinewidth": 0,
             "ticks": ""
            },
            "colorscale": [
             [
              0,
              "#0d0887"
             ],
             [
              0.1111111111111111,
              "#46039f"
             ],
             [
              0.2222222222222222,
              "#7201a8"
             ],
             [
              0.3333333333333333,
              "#9c179e"
             ],
             [
              0.4444444444444444,
              "#bd3786"
             ],
             [
              0.5555555555555556,
              "#d8576b"
             ],
             [
              0.6666666666666666,
              "#ed7953"
             ],
             [
              0.7777777777777778,
              "#fb9f3a"
             ],
             [
              0.8888888888888888,
              "#fdca26"
             ],
             [
              1,
              "#f0f921"
             ]
            ],
            "type": "histogram2d"
           }
          ],
          "histogram2dcontour": [
           {
            "colorbar": {
             "outlinewidth": 0,
             "ticks": ""
            },
            "colorscale": [
             [
              0,
              "#0d0887"
             ],
             [
              0.1111111111111111,
              "#46039f"
             ],
             [
              0.2222222222222222,
              "#7201a8"
             ],
             [
              0.3333333333333333,
              "#9c179e"
             ],
             [
              0.4444444444444444,
              "#bd3786"
             ],
             [
              0.5555555555555556,
              "#d8576b"
             ],
             [
              0.6666666666666666,
              "#ed7953"
             ],
             [
              0.7777777777777778,
              "#fb9f3a"
             ],
             [
              0.8888888888888888,
              "#fdca26"
             ],
             [
              1,
              "#f0f921"
             ]
            ],
            "type": "histogram2dcontour"
           }
          ],
          "mesh3d": [
           {
            "colorbar": {
             "outlinewidth": 0,
             "ticks": ""
            },
            "type": "mesh3d"
           }
          ],
          "parcoords": [
           {
            "line": {
             "colorbar": {
              "outlinewidth": 0,
              "ticks": ""
             }
            },
            "type": "parcoords"
           }
          ],
          "pie": [
           {
            "automargin": true,
            "type": "pie"
           }
          ],
          "scatter": [
           {
            "fillpattern": {
             "fillmode": "overlay",
             "size": 10,
             "solidity": 0.2
            },
            "type": "scatter"
           }
          ],
          "scatter3d": [
           {
            "line": {
             "colorbar": {
              "outlinewidth": 0,
              "ticks": ""
             }
            },
            "marker": {
             "colorbar": {
              "outlinewidth": 0,
              "ticks": ""
             }
            },
            "type": "scatter3d"
           }
          ],
          "scattercarpet": [
           {
            "marker": {
             "colorbar": {
              "outlinewidth": 0,
              "ticks": ""
             }
            },
            "type": "scattercarpet"
           }
          ],
          "scattergeo": [
           {
            "marker": {
             "colorbar": {
              "outlinewidth": 0,
              "ticks": ""
             }
            },
            "type": "scattergeo"
           }
          ],
          "scattergl": [
           {
            "marker": {
             "colorbar": {
              "outlinewidth": 0,
              "ticks": ""
             }
            },
            "type": "scattergl"
           }
          ],
          "scattermapbox": [
           {
            "marker": {
             "colorbar": {
              "outlinewidth": 0,
              "ticks": ""
             }
            },
            "type": "scattermapbox"
           }
          ],
          "scatterpolar": [
           {
            "marker": {
             "colorbar": {
              "outlinewidth": 0,
              "ticks": ""
             }
            },
            "type": "scatterpolar"
           }
          ],
          "scatterpolargl": [
           {
            "marker": {
             "colorbar": {
              "outlinewidth": 0,
              "ticks": ""
             }
            },
            "type": "scatterpolargl"
           }
          ],
          "scatterternary": [
           {
            "marker": {
             "colorbar": {
              "outlinewidth": 0,
              "ticks": ""
             }
            },
            "type": "scatterternary"
           }
          ],
          "surface": [
           {
            "colorbar": {
             "outlinewidth": 0,
             "ticks": ""
            },
            "colorscale": [
             [
              0,
              "#0d0887"
             ],
             [
              0.1111111111111111,
              "#46039f"
             ],
             [
              0.2222222222222222,
              "#7201a8"
             ],
             [
              0.3333333333333333,
              "#9c179e"
             ],
             [
              0.4444444444444444,
              "#bd3786"
             ],
             [
              0.5555555555555556,
              "#d8576b"
             ],
             [
              0.6666666666666666,
              "#ed7953"
             ],
             [
              0.7777777777777778,
              "#fb9f3a"
             ],
             [
              0.8888888888888888,
              "#fdca26"
             ],
             [
              1,
              "#f0f921"
             ]
            ],
            "type": "surface"
           }
          ],
          "table": [
           {
            "cells": {
             "fill": {
              "color": "#EBF0F8"
             },
             "line": {
              "color": "white"
             }
            },
            "header": {
             "fill": {
              "color": "#C8D4E3"
             },
             "line": {
              "color": "white"
             }
            },
            "type": "table"
           }
          ]
         },
         "layout": {
          "annotationdefaults": {
           "arrowcolor": "#2a3f5f",
           "arrowhead": 0,
           "arrowwidth": 1
          },
          "autotypenumbers": "strict",
          "coloraxis": {
           "colorbar": {
            "outlinewidth": 0,
            "ticks": ""
           }
          },
          "colorscale": {
           "diverging": [
            [
             0,
             "#8e0152"
            ],
            [
             0.1,
             "#c51b7d"
            ],
            [
             0.2,
             "#de77ae"
            ],
            [
             0.3,
             "#f1b6da"
            ],
            [
             0.4,
             "#fde0ef"
            ],
            [
             0.5,
             "#f7f7f7"
            ],
            [
             0.6,
             "#e6f5d0"
            ],
            [
             0.7,
             "#b8e186"
            ],
            [
             0.8,
             "#7fbc41"
            ],
            [
             0.9,
             "#4d9221"
            ],
            [
             1,
             "#276419"
            ]
           ],
           "sequential": [
            [
             0,
             "#0d0887"
            ],
            [
             0.1111111111111111,
             "#46039f"
            ],
            [
             0.2222222222222222,
             "#7201a8"
            ],
            [
             0.3333333333333333,
             "#9c179e"
            ],
            [
             0.4444444444444444,
             "#bd3786"
            ],
            [
             0.5555555555555556,
             "#d8576b"
            ],
            [
             0.6666666666666666,
             "#ed7953"
            ],
            [
             0.7777777777777778,
             "#fb9f3a"
            ],
            [
             0.8888888888888888,
             "#fdca26"
            ],
            [
             1,
             "#f0f921"
            ]
           ],
           "sequentialminus": [
            [
             0,
             "#0d0887"
            ],
            [
             0.1111111111111111,
             "#46039f"
            ],
            [
             0.2222222222222222,
             "#7201a8"
            ],
            [
             0.3333333333333333,
             "#9c179e"
            ],
            [
             0.4444444444444444,
             "#bd3786"
            ],
            [
             0.5555555555555556,
             "#d8576b"
            ],
            [
             0.6666666666666666,
             "#ed7953"
            ],
            [
             0.7777777777777778,
             "#fb9f3a"
            ],
            [
             0.8888888888888888,
             "#fdca26"
            ],
            [
             1,
             "#f0f921"
            ]
           ]
          },
          "colorway": [
           "#636efa",
           "#EF553B",
           "#00cc96",
           "#ab63fa",
           "#FFA15A",
           "#19d3f3",
           "#FF6692",
           "#B6E880",
           "#FF97FF",
           "#FECB52"
          ],
          "font": {
           "color": "#2a3f5f"
          },
          "geo": {
           "bgcolor": "white",
           "lakecolor": "white",
           "landcolor": "#E5ECF6",
           "showlakes": true,
           "showland": true,
           "subunitcolor": "white"
          },
          "hoverlabel": {
           "align": "left"
          },
          "hovermode": "closest",
          "mapbox": {
           "style": "light"
          },
          "paper_bgcolor": "white",
          "plot_bgcolor": "#E5ECF6",
          "polar": {
           "angularaxis": {
            "gridcolor": "white",
            "linecolor": "white",
            "ticks": ""
           },
           "bgcolor": "#E5ECF6",
           "radialaxis": {
            "gridcolor": "white",
            "linecolor": "white",
            "ticks": ""
           }
          },
          "scene": {
           "xaxis": {
            "backgroundcolor": "#E5ECF6",
            "gridcolor": "white",
            "gridwidth": 2,
            "linecolor": "white",
            "showbackground": true,
            "ticks": "",
            "zerolinecolor": "white"
           },
           "yaxis": {
            "backgroundcolor": "#E5ECF6",
            "gridcolor": "white",
            "gridwidth": 2,
            "linecolor": "white",
            "showbackground": true,
            "ticks": "",
            "zerolinecolor": "white"
           },
           "zaxis": {
            "backgroundcolor": "#E5ECF6",
            "gridcolor": "white",
            "gridwidth": 2,
            "linecolor": "white",
            "showbackground": true,
            "ticks": "",
            "zerolinecolor": "white"
           }
          },
          "shapedefaults": {
           "line": {
            "color": "#2a3f5f"
           }
          },
          "ternary": {
           "aaxis": {
            "gridcolor": "white",
            "linecolor": "white",
            "ticks": ""
           },
           "baxis": {
            "gridcolor": "white",
            "linecolor": "white",
            "ticks": ""
           },
           "bgcolor": "#E5ECF6",
           "caxis": {
            "gridcolor": "white",
            "linecolor": "white",
            "ticks": ""
           }
          },
          "title": {
           "x": 0.05
          },
          "xaxis": {
           "automargin": true,
           "gridcolor": "white",
           "linecolor": "white",
           "ticks": "",
           "title": {
            "standoff": 15
           },
           "zerolinecolor": "white",
           "zerolinewidth": 2
          },
          "yaxis": {
           "automargin": true,
           "gridcolor": "white",
           "linecolor": "white",
           "ticks": "",
           "title": {
            "standoff": 15
           },
           "zerolinecolor": "white",
           "zerolinewidth": 2
          }
         }
        }
       }
      }
     },
     "metadata": {},
     "output_type": "display_data"
    }
   ],
   "source": [
    "import plotly.graph_objects as go\n",
    "\n",
    "fig = go.Figure(\n",
    "    data=[\n",
    "        go.Candlestick(\n",
    "            x=df.index.get_level_values(\"datetime\"),\n",
    "            open=df[\"$open\"],\n",
    "            high=df[\"$high\"],\n",
    "            low=df[\"$low\"],\n",
    "            close=df[\"$close\"],\n",
    "        )\n",
    "    ]\n",
    ")\n",
    "fig.show()"
   ]
  },
  {
   "attachments": {},
   "cell_type": "markdown",
   "id": "768ef188",
   "metadata": {},
   "source": [
    "### price adjustment\n"
   ]
  },
  {
   "attachments": {},
   "cell_type": "markdown",
   "id": "d9a536a4",
   "metadata": {},
   "source": [
    "Maybe you think the price is not what it looks like in real world.\n",
    "\n",
    "Due to the price adjustment, the price will be different from the real trading\n",
    "data .\n"
   ]
  },
  {
   "cell_type": "code",
   "execution_count": 7,
   "id": "45df33b5",
   "metadata": {},
   "outputs": [
    {
     "data": {
      "application/vnd.plotly.v1+json": {
       "config": {
        "plotlyServerURL": "https://plot.ly"
       },
       "data": [
        {
         "close": [
          2.890000343322754,
          2.859999895095825,
          2.869999885559082,
          2.869999885559082,
          2.869999885559082,
          2.869999885559082,
          2.8299996852874756,
          2.809999942779541,
          2.8299996852874756,
          2.8299996852874756,
          2.9600000381469727,
          2.9600000381469727,
          2.9600000381469727,
          2.990000009536743,
          2.549999952316284,
          2.490000009536743,
          2.490000009536743,
          2.4800000190734863
         ],
         "high": [
          2.9100003242492676,
          2.890000104904175,
          2.9000000953674316,
          2.890000104904175,
          2.890000104904175,
          2.869999885559082,
          2.869999885559082,
          2.8499999046325684,
          2.869999885559082,
          2.859999895095825,
          3.000000238418579,
          3.000000238418579,
          2.9700000286102295,
          3.0099997520446777,
          2.630000114440918,
          2.5399999618530273,
          2.5199999809265137,
          2.490000009536743
         ],
         "low": [
          2.819999933242798,
          2.8499999046325684,
          2.859999895095825,
          2.859999895095825,
          2.859999895095825,
          2.8499996662139893,
          2.8299996852874756,
          2.799999952316284,
          2.809999942779541,
          2.819999933242798,
          2.880000114440918,
          2.940000057220459,
          2.9100003242492676,
          2.940000057220459,
          2.509999990463257,
          2.4800000190734863,
          2.4700000286102295,
          2.4600000381469727
         ],
         "open": [
          2.8499999046325684,
          2.890000104904175,
          2.869999885559082,
          2.880000114440918,
          2.869999885559082,
          2.869999885559082,
          2.859999895095825,
          2.8399999141693115,
          2.8299996852874756,
          2.8399999141693115,
          2.880000114440918,
          2.9800000190734863,
          2.9600000381469727,
          2.990000009536743,
          2.630000114440918,
          2.5299999713897705,
          2.4700000286102295,
          2.490000009536743
         ],
         "type": "candlestick",
         "x": [
          "2020-05-06T00:00:00",
          "2020-05-07T00:00:00",
          "2020-05-08T00:00:00",
          "2020-05-11T00:00:00",
          "2020-05-12T00:00:00",
          "2020-05-13T00:00:00",
          "2020-05-14T00:00:00",
          "2020-05-15T00:00:00",
          "2020-05-18T00:00:00",
          "2020-05-19T00:00:00",
          "2020-05-20T00:00:00",
          "2020-05-21T00:00:00",
          "2020-05-22T00:00:00",
          "2020-05-25T00:00:00",
          "2020-05-26T00:00:00",
          "2020-05-27T00:00:00",
          "2020-05-28T00:00:00",
          "2020-05-29T00:00:00"
         ]
        }
       ],
       "layout": {
        "template": {
         "data": {
          "bar": [
           {
            "error_x": {
             "color": "#2a3f5f"
            },
            "error_y": {
             "color": "#2a3f5f"
            },
            "marker": {
             "line": {
              "color": "#E5ECF6",
              "width": 0.5
             },
             "pattern": {
              "fillmode": "overlay",
              "size": 10,
              "solidity": 0.2
             }
            },
            "type": "bar"
           }
          ],
          "barpolar": [
           {
            "marker": {
             "line": {
              "color": "#E5ECF6",
              "width": 0.5
             },
             "pattern": {
              "fillmode": "overlay",
              "size": 10,
              "solidity": 0.2
             }
            },
            "type": "barpolar"
           }
          ],
          "carpet": [
           {
            "aaxis": {
             "endlinecolor": "#2a3f5f",
             "gridcolor": "white",
             "linecolor": "white",
             "minorgridcolor": "white",
             "startlinecolor": "#2a3f5f"
            },
            "baxis": {
             "endlinecolor": "#2a3f5f",
             "gridcolor": "white",
             "linecolor": "white",
             "minorgridcolor": "white",
             "startlinecolor": "#2a3f5f"
            },
            "type": "carpet"
           }
          ],
          "choropleth": [
           {
            "colorbar": {
             "outlinewidth": 0,
             "ticks": ""
            },
            "type": "choropleth"
           }
          ],
          "contour": [
           {
            "colorbar": {
             "outlinewidth": 0,
             "ticks": ""
            },
            "colorscale": [
             [
              0,
              "#0d0887"
             ],
             [
              0.1111111111111111,
              "#46039f"
             ],
             [
              0.2222222222222222,
              "#7201a8"
             ],
             [
              0.3333333333333333,
              "#9c179e"
             ],
             [
              0.4444444444444444,
              "#bd3786"
             ],
             [
              0.5555555555555556,
              "#d8576b"
             ],
             [
              0.6666666666666666,
              "#ed7953"
             ],
             [
              0.7777777777777778,
              "#fb9f3a"
             ],
             [
              0.8888888888888888,
              "#fdca26"
             ],
             [
              1,
              "#f0f921"
             ]
            ],
            "type": "contour"
           }
          ],
          "contourcarpet": [
           {
            "colorbar": {
             "outlinewidth": 0,
             "ticks": ""
            },
            "type": "contourcarpet"
           }
          ],
          "heatmap": [
           {
            "colorbar": {
             "outlinewidth": 0,
             "ticks": ""
            },
            "colorscale": [
             [
              0,
              "#0d0887"
             ],
             [
              0.1111111111111111,
              "#46039f"
             ],
             [
              0.2222222222222222,
              "#7201a8"
             ],
             [
              0.3333333333333333,
              "#9c179e"
             ],
             [
              0.4444444444444444,
              "#bd3786"
             ],
             [
              0.5555555555555556,
              "#d8576b"
             ],
             [
              0.6666666666666666,
              "#ed7953"
             ],
             [
              0.7777777777777778,
              "#fb9f3a"
             ],
             [
              0.8888888888888888,
              "#fdca26"
             ],
             [
              1,
              "#f0f921"
             ]
            ],
            "type": "heatmap"
           }
          ],
          "heatmapgl": [
           {
            "colorbar": {
             "outlinewidth": 0,
             "ticks": ""
            },
            "colorscale": [
             [
              0,
              "#0d0887"
             ],
             [
              0.1111111111111111,
              "#46039f"
             ],
             [
              0.2222222222222222,
              "#7201a8"
             ],
             [
              0.3333333333333333,
              "#9c179e"
             ],
             [
              0.4444444444444444,
              "#bd3786"
             ],
             [
              0.5555555555555556,
              "#d8576b"
             ],
             [
              0.6666666666666666,
              "#ed7953"
             ],
             [
              0.7777777777777778,
              "#fb9f3a"
             ],
             [
              0.8888888888888888,
              "#fdca26"
             ],
             [
              1,
              "#f0f921"
             ]
            ],
            "type": "heatmapgl"
           }
          ],
          "histogram": [
           {
            "marker": {
             "pattern": {
              "fillmode": "overlay",
              "size": 10,
              "solidity": 0.2
             }
            },
            "type": "histogram"
           }
          ],
          "histogram2d": [
           {
            "colorbar": {
             "outlinewidth": 0,
             "ticks": ""
            },
            "colorscale": [
             [
              0,
              "#0d0887"
             ],
             [
              0.1111111111111111,
              "#46039f"
             ],
             [
              0.2222222222222222,
              "#7201a8"
             ],
             [
              0.3333333333333333,
              "#9c179e"
             ],
             [
              0.4444444444444444,
              "#bd3786"
             ],
             [
              0.5555555555555556,
              "#d8576b"
             ],
             [
              0.6666666666666666,
              "#ed7953"
             ],
             [
              0.7777777777777778,
              "#fb9f3a"
             ],
             [
              0.8888888888888888,
              "#fdca26"
             ],
             [
              1,
              "#f0f921"
             ]
            ],
            "type": "histogram2d"
           }
          ],
          "histogram2dcontour": [
           {
            "colorbar": {
             "outlinewidth": 0,
             "ticks": ""
            },
            "colorscale": [
             [
              0,
              "#0d0887"
             ],
             [
              0.1111111111111111,
              "#46039f"
             ],
             [
              0.2222222222222222,
              "#7201a8"
             ],
             [
              0.3333333333333333,
              "#9c179e"
             ],
             [
              0.4444444444444444,
              "#bd3786"
             ],
             [
              0.5555555555555556,
              "#d8576b"
             ],
             [
              0.6666666666666666,
              "#ed7953"
             ],
             [
              0.7777777777777778,
              "#fb9f3a"
             ],
             [
              0.8888888888888888,
              "#fdca26"
             ],
             [
              1,
              "#f0f921"
             ]
            ],
            "type": "histogram2dcontour"
           }
          ],
          "mesh3d": [
           {
            "colorbar": {
             "outlinewidth": 0,
             "ticks": ""
            },
            "type": "mesh3d"
           }
          ],
          "parcoords": [
           {
            "line": {
             "colorbar": {
              "outlinewidth": 0,
              "ticks": ""
             }
            },
            "type": "parcoords"
           }
          ],
          "pie": [
           {
            "automargin": true,
            "type": "pie"
           }
          ],
          "scatter": [
           {
            "fillpattern": {
             "fillmode": "overlay",
             "size": 10,
             "solidity": 0.2
            },
            "type": "scatter"
           }
          ],
          "scatter3d": [
           {
            "line": {
             "colorbar": {
              "outlinewidth": 0,
              "ticks": ""
             }
            },
            "marker": {
             "colorbar": {
              "outlinewidth": 0,
              "ticks": ""
             }
            },
            "type": "scatter3d"
           }
          ],
          "scattercarpet": [
           {
            "marker": {
             "colorbar": {
              "outlinewidth": 0,
              "ticks": ""
             }
            },
            "type": "scattercarpet"
           }
          ],
          "scattergeo": [
           {
            "marker": {
             "colorbar": {
              "outlinewidth": 0,
              "ticks": ""
             }
            },
            "type": "scattergeo"
           }
          ],
          "scattergl": [
           {
            "marker": {
             "colorbar": {
              "outlinewidth": 0,
              "ticks": ""
             }
            },
            "type": "scattergl"
           }
          ],
          "scattermapbox": [
           {
            "marker": {
             "colorbar": {
              "outlinewidth": 0,
              "ticks": ""
             }
            },
            "type": "scattermapbox"
           }
          ],
          "scatterpolar": [
           {
            "marker": {
             "colorbar": {
              "outlinewidth": 0,
              "ticks": ""
             }
            },
            "type": "scatterpolar"
           }
          ],
          "scatterpolargl": [
           {
            "marker": {
             "colorbar": {
              "outlinewidth": 0,
              "ticks": ""
             }
            },
            "type": "scatterpolargl"
           }
          ],
          "scatterternary": [
           {
            "marker": {
             "colorbar": {
              "outlinewidth": 0,
              "ticks": ""
             }
            },
            "type": "scatterternary"
           }
          ],
          "surface": [
           {
            "colorbar": {
             "outlinewidth": 0,
             "ticks": ""
            },
            "colorscale": [
             [
              0,
              "#0d0887"
             ],
             [
              0.1111111111111111,
              "#46039f"
             ],
             [
              0.2222222222222222,
              "#7201a8"
             ],
             [
              0.3333333333333333,
              "#9c179e"
             ],
             [
              0.4444444444444444,
              "#bd3786"
             ],
             [
              0.5555555555555556,
              "#d8576b"
             ],
             [
              0.6666666666666666,
              "#ed7953"
             ],
             [
              0.7777777777777778,
              "#fb9f3a"
             ],
             [
              0.8888888888888888,
              "#fdca26"
             ],
             [
              1,
              "#f0f921"
             ]
            ],
            "type": "surface"
           }
          ],
          "table": [
           {
            "cells": {
             "fill": {
              "color": "#EBF0F8"
             },
             "line": {
              "color": "white"
             }
            },
            "header": {
             "fill": {
              "color": "#C8D4E3"
             },
             "line": {
              "color": "white"
             }
            },
            "type": "table"
           }
          ]
         },
         "layout": {
          "annotationdefaults": {
           "arrowcolor": "#2a3f5f",
           "arrowhead": 0,
           "arrowwidth": 1
          },
          "autotypenumbers": "strict",
          "coloraxis": {
           "colorbar": {
            "outlinewidth": 0,
            "ticks": ""
           }
          },
          "colorscale": {
           "diverging": [
            [
             0,
             "#8e0152"
            ],
            [
             0.1,
             "#c51b7d"
            ],
            [
             0.2,
             "#de77ae"
            ],
            [
             0.3,
             "#f1b6da"
            ],
            [
             0.4,
             "#fde0ef"
            ],
            [
             0.5,
             "#f7f7f7"
            ],
            [
             0.6,
             "#e6f5d0"
            ],
            [
             0.7,
             "#b8e186"
            ],
            [
             0.8,
             "#7fbc41"
            ],
            [
             0.9,
             "#4d9221"
            ],
            [
             1,
             "#276419"
            ]
           ],
           "sequential": [
            [
             0,
             "#0d0887"
            ],
            [
             0.1111111111111111,
             "#46039f"
            ],
            [
             0.2222222222222222,
             "#7201a8"
            ],
            [
             0.3333333333333333,
             "#9c179e"
            ],
            [
             0.4444444444444444,
             "#bd3786"
            ],
            [
             0.5555555555555556,
             "#d8576b"
            ],
            [
             0.6666666666666666,
             "#ed7953"
            ],
            [
             0.7777777777777778,
             "#fb9f3a"
            ],
            [
             0.8888888888888888,
             "#fdca26"
            ],
            [
             1,
             "#f0f921"
            ]
           ],
           "sequentialminus": [
            [
             0,
             "#0d0887"
            ],
            [
             0.1111111111111111,
             "#46039f"
            ],
            [
             0.2222222222222222,
             "#7201a8"
            ],
            [
             0.3333333333333333,
             "#9c179e"
            ],
            [
             0.4444444444444444,
             "#bd3786"
            ],
            [
             0.5555555555555556,
             "#d8576b"
            ],
            [
             0.6666666666666666,
             "#ed7953"
            ],
            [
             0.7777777777777778,
             "#fb9f3a"
            ],
            [
             0.8888888888888888,
             "#fdca26"
            ],
            [
             1,
             "#f0f921"
            ]
           ]
          },
          "colorway": [
           "#636efa",
           "#EF553B",
           "#00cc96",
           "#ab63fa",
           "#FFA15A",
           "#19d3f3",
           "#FF6692",
           "#B6E880",
           "#FF97FF",
           "#FECB52"
          ],
          "font": {
           "color": "#2a3f5f"
          },
          "geo": {
           "bgcolor": "white",
           "lakecolor": "white",
           "landcolor": "#E5ECF6",
           "showlakes": true,
           "showland": true,
           "subunitcolor": "white"
          },
          "hoverlabel": {
           "align": "left"
          },
          "hovermode": "closest",
          "mapbox": {
           "style": "light"
          },
          "paper_bgcolor": "white",
          "plot_bgcolor": "#E5ECF6",
          "polar": {
           "angularaxis": {
            "gridcolor": "white",
            "linecolor": "white",
            "ticks": ""
           },
           "bgcolor": "#E5ECF6",
           "radialaxis": {
            "gridcolor": "white",
            "linecolor": "white",
            "ticks": ""
           }
          },
          "scene": {
           "xaxis": {
            "backgroundcolor": "#E5ECF6",
            "gridcolor": "white",
            "gridwidth": 2,
            "linecolor": "white",
            "showbackground": true,
            "ticks": "",
            "zerolinecolor": "white"
           },
           "yaxis": {
            "backgroundcolor": "#E5ECF6",
            "gridcolor": "white",
            "gridwidth": 2,
            "linecolor": "white",
            "showbackground": true,
            "ticks": "",
            "zerolinecolor": "white"
           },
           "zaxis": {
            "backgroundcolor": "#E5ECF6",
            "gridcolor": "white",
            "gridwidth": 2,
            "linecolor": "white",
            "showbackground": true,
            "ticks": "",
            "zerolinecolor": "white"
           }
          },
          "shapedefaults": {
           "line": {
            "color": "#2a3f5f"
           }
          },
          "ternary": {
           "aaxis": {
            "gridcolor": "white",
            "linecolor": "white",
            "ticks": ""
           },
           "baxis": {
            "gridcolor": "white",
            "linecolor": "white",
            "ticks": ""
           },
           "bgcolor": "#E5ECF6",
           "caxis": {
            "gridcolor": "white",
            "linecolor": "white",
            "ticks": ""
           }
          },
          "title": {
           "x": 0.05
          },
          "xaxis": {
           "automargin": true,
           "gridcolor": "white",
           "linecolor": "white",
           "ticks": "",
           "title": {
            "standoff": 15
           },
           "zerolinecolor": "white",
           "zerolinewidth": 2
          },
          "yaxis": {
           "automargin": true,
           "gridcolor": "white",
           "linecolor": "white",
           "ticks": "",
           "title": {
            "standoff": 15
           },
           "zerolinecolor": "white",
           "zerolinewidth": 2
          }
         }
        }
       }
      }
     },
     "metadata": {},
     "output_type": "display_data"
    }
   ],
   "source": [
    "import plotly.graph_objects as go\n",
    "\n",
    "fig = go.Figure(\n",
    "    data=[\n",
    "        go.Candlestick(\n",
    "            x=df.index.get_level_values(\"datetime\"),\n",
    "            open=df[\"$open\"] / df[\"$factor\"],\n",
    "            high=df[\"$high\"] / df[\"$factor\"],\n",
    "            low=df[\"$low\"] / df[\"$factor\"],\n",
    "            close=df[\"$close\"] / df[\"$factor\"],\n",
    "        )\n",
    "    ]\n",
    ")\n",
    "fig.show()"
   ]
  },
  {
   "attachments": {},
   "cell_type": "markdown",
   "id": "d6acffc3",
   "metadata": {},
   "source": [
    "Please notice the price gap on\n",
    "[2020-05-26](http://vip.stock.finance.sina.com.cn/corp/view/vISSUE_ShareBonusDetail.php?stockid=601216&type=1&end_date=2020-05-20)\n",
    "\n",
    "If we want to represent the change of assets value by price, adjust prices are\n",
    "necesary. By default, Qlib stores the adjusted prices.\n"
   ]
  },
  {
   "attachments": {},
   "cell_type": "markdown",
   "id": "af5f063e",
   "metadata": {},
   "source": [
    "### Static universe V.S. dynamic universe\n"
   ]
  },
  {
   "attachments": {},
   "cell_type": "markdown",
   "id": "8b9b8ce5",
   "metadata": {},
   "source": [
    "Dynamic universe\n"
   ]
  },
  {
   "cell_type": "code",
   "execution_count": 12,
   "id": "50d3ab70",
   "metadata": {},
   "outputs": [
    {
     "name": "stdout",
     "output_type": "stream",
     "text": [
      "{'SH600000': [(Timestamp('2010-01-01 00:00:00'),\n",
      "               Timestamp('2020-10-20 00:00:00'))],\n",
      " 'SH600005': [(Timestamp('2010-01-01 00:00:00'),\n",
      "               Timestamp('2013-12-13 00:00:00'))],\n",
      " 'SH600009': [(Timestamp('2018-06-11 00:00:00'),\n",
      "               Timestamp('2020-10-20 00:00:00')),\n",
      "              (Timestamp('2010-01-01 00:00:00'),\n",
      "               Timestamp('2011-06-30 00:00:00'))],\n",
      " 'SH600010': [(Timestamp('2012-01-04 00:00:00'),\n",
      "               Timestamp('2020-06-12 00:00:00')),\n",
      "              (Timestamp('2010-01-01 00:00:00'),\n",
      "               Timestamp('2010-06-30 00:00:00'))],\n",
      " 'SH600011': [(Timestamp('2017-12-11 00:00:00'),\n",
      "               Timestamp('2020-06-12 00:00:00')),\n",
      "              (Timestamp('2012-07-02 00:00:00'),\n",
      "               Timestamp('2016-12-09 00:00:00')),\n",
      "              (Timestamp('2010-01-01 00:00:00'),\n",
      "               Timestamp('2010-12-31 00:00:00'))],\n",
      " 'SH600015': [(Timestamp('2010-01-01 00:00:00'),\n",
      "               Timestamp('2020-10-20 00:00:00'))],\n",
      " 'SH600016': [(Timestamp('2010-01-01 00:00:00'),\n",
      "               Timestamp('2020-10-20 00:00:00'))],\n",
      " 'SH600018': [(Timestamp('2013-12-16 00:00:00'),\n",
      "               Timestamp('2020-10-20 00:00:00')),\n",
      "              (Timestamp('2010-01-01 00:00:00'),\n",
      "               Timestamp('2011-12-30 00:00:00'))],\n",
      " 'SH600019': [(Timestamp('2010-01-01 00:00:00'),\n",
      "               Timestamp('2020-10-20 00:00:00'))],\n",
      " 'SH600023': [(Timestamp('2014-06-16 00:00:00'),\n",
      "               Timestamp('2020-06-12 00:00:00'))],\n",
      " 'SH600025': [(Timestamp('2018-06-11 00:00:00'),\n",
      "               Timestamp('2020-10-20 00:00:00'))],\n",
      " 'SH600026': [(Timestamp('2010-01-01 00:00:00'),\n",
      "               Timestamp('2010-06-30 00:00:00'))],\n",
      " 'SH600028': [(Timestamp('2010-01-01 00:00:00'),\n",
      "               Timestamp('2020-10-20 00:00:00'))],\n",
      " 'SH600029': [(Timestamp('2010-01-01 00:00:00'),\n",
      "               Timestamp('2013-12-13 00:00:00'))],\n",
      " 'SH600030': [(Timestamp('2010-01-01 00:00:00'),\n",
      "               Timestamp('2020-10-20 00:00:00'))],\n",
      " 'SH600031': [(Timestamp('2019-12-16 00:00:00'),\n",
      "               Timestamp('2020-10-20 00:00:00')),\n",
      "              (Timestamp('2010-01-01 00:00:00'),\n",
      "               Timestamp('2016-06-08 00:00:00'))],\n",
      " 'SH600036': [(Timestamp('2010-01-01 00:00:00'),\n",
      "               Timestamp('2020-10-20 00:00:00'))],\n",
      " 'SH600048': [(Timestamp('2010-01-01 00:00:00'),\n",
      "               Timestamp('2020-10-20 00:00:00'))],\n",
      " 'SH600050': [(Timestamp('2010-01-01 00:00:00'),\n",
      "               Timestamp('2020-10-20 00:00:00'))],\n",
      " 'SH600061': [(Timestamp('2016-06-13 00:00:00'),\n",
      "               Timestamp('2018-06-08 00:00:00'))],\n",
      " 'SH600089': [(Timestamp('2010-01-01 00:00:00'),\n",
      "               Timestamp('2012-12-31 00:00:00'))],\n",
      " 'SH600104': [(Timestamp('2010-01-01 00:00:00'),\n",
      "               Timestamp('2020-10-20 00:00:00'))],\n",
      " 'SH600111': [(Timestamp('2011-07-01 00:00:00'),\n",
      "               Timestamp('2017-06-09 00:00:00'))],\n",
      " 'SH600115': [(Timestamp('2015-12-14 00:00:00'),\n",
      "               Timestamp('2020-06-12 00:00:00')),\n",
      "              (Timestamp('2011-01-04 00:00:00'),\n",
      "               Timestamp('2013-12-13 00:00:00'))],\n",
      " 'SH600150': [(Timestamp('2010-01-01 00:00:00'),\n",
      "               Timestamp('2016-06-08 00:00:00'))],\n",
      " 'SH600177': [(Timestamp('2010-01-01 00:00:00'),\n",
      "               Timestamp('2011-06-30 00:00:00'))],\n",
      " 'SH600188': [(Timestamp('2010-01-01 00:00:00'),\n",
      "               Timestamp('2014-12-12 00:00:00'))],\n",
      " 'SH600196': [(Timestamp('2014-12-15 00:00:00'),\n",
      "               Timestamp('2015-12-11 00:00:00'))],\n",
      " 'SH600208': [(Timestamp('2010-01-04 00:00:00'),\n",
      "               Timestamp('2011-06-30 00:00:00'))],\n",
      " 'SH600256': [(Timestamp('2011-07-01 00:00:00'),\n",
      "               Timestamp('2015-12-11 00:00:00'))],\n",
      " 'SH600276': [(Timestamp('2013-01-04 00:00:00'),\n",
      "               Timestamp('2020-10-20 00:00:00'))],\n",
      " 'SH600309': [(Timestamp('2017-12-11 00:00:00'),\n",
      "               Timestamp('2020-10-20 00:00:00')),\n",
      "              (Timestamp('2010-01-01 00:00:00'),\n",
      "               Timestamp('2015-12-11 00:00:00'))],\n",
      " 'SH600320': [(Timestamp('2010-01-01 00:00:00'),\n",
      "               Timestamp('2010-12-31 00:00:00'))],\n",
      " 'SH600340': [(Timestamp('2015-12-14 00:00:00'),\n",
      "               Timestamp('2020-10-20 00:00:00'))],\n",
      " 'SH600346': [(Timestamp('2019-12-16 00:00:00'),\n",
      "               Timestamp('2020-10-20 00:00:00'))],\n",
      " 'SH600348': [(Timestamp('2010-07-01 00:00:00'),\n",
      "               Timestamp('2014-06-13 00:00:00'))],\n",
      " 'SH600362': [(Timestamp('2010-01-01 00:00:00'),\n",
      "               Timestamp('2015-06-12 00:00:00'))],\n",
      " 'SH600372': [(Timestamp('2014-06-16 00:00:00'),\n",
      "               Timestamp('2016-06-08 00:00:00'))],\n",
      " 'SH600383': [(Timestamp('2014-12-15 00:00:00'),\n",
      "               Timestamp('2015-12-11 00:00:00'))],\n",
      " 'SH600398': [(Timestamp('2015-06-15 00:00:00'),\n",
      "               Timestamp('2016-12-09 00:00:00'))],\n",
      " 'SH600406': [(Timestamp('2019-06-17 00:00:00'),\n",
      "               Timestamp('2020-10-20 00:00:00')),\n",
      "              (Timestamp('2013-01-04 00:00:00'),\n",
      "               Timestamp('2015-12-11 00:00:00'))],\n",
      " 'SH600485': [(Timestamp('2015-06-15 00:00:00'),\n",
      "               Timestamp('2017-12-08 00:00:00'))],\n",
      " 'SH600489': [(Timestamp('2010-01-04 00:00:00'),\n",
      "               Timestamp('2014-12-12 00:00:00'))],\n",
      " 'SH600518': [(Timestamp('2013-07-01 00:00:00'),\n",
      "               Timestamp('2019-06-14 00:00:00'))],\n",
      " 'SH600519': [(Timestamp('2010-01-01 00:00:00'),\n",
      "               Timestamp('2020-10-20 00:00:00'))],\n",
      " 'SH600535': [(Timestamp('2013-12-16 00:00:00'),\n",
      "               Timestamp('2015-12-11 00:00:00'))],\n",
      " 'SH600547': [(Timestamp('2010-01-04 00:00:00'),\n",
      "               Timestamp('2014-12-12 00:00:00'))],\n",
      " 'SH600550': [(Timestamp('2010-01-01 00:00:00'),\n",
      "               Timestamp('2011-06-30 00:00:00'))],\n",
      " 'SH600583': [(Timestamp('2014-12-15 00:00:00'),\n",
      "               Timestamp('2015-12-11 00:00:00')),\n",
      "              (Timestamp('2010-01-01 00:00:00'),\n",
      "               Timestamp('2011-06-30 00:00:00'))],\n",
      " 'SH600585': [(Timestamp('2010-01-01 00:00:00'),\n",
      "               Timestamp('2020-10-20 00:00:00'))],\n",
      " 'SH600606': [(Timestamp('2016-06-13 00:00:00'),\n",
      "               Timestamp('2020-10-20 00:00:00'))],\n",
      " 'SH600637': [(Timestamp('2014-06-16 00:00:00'),\n",
      "               Timestamp('2018-06-08 00:00:00'))],\n",
      " 'SH600642': [(Timestamp('2010-01-01 00:00:00'),\n",
      "               Timestamp('2010-12-31 00:00:00'))],\n",
      " 'SH600649': [(Timestamp('2010-01-01 00:00:00'),\n",
      "               Timestamp('2010-06-30 00:00:00'))],\n",
      " 'SH600663': [(Timestamp('2016-12-12 00:00:00'),\n",
      "               Timestamp('2018-06-08 00:00:00')),\n",
      "              (Timestamp('2010-01-01 00:00:00'),\n",
      "               Timestamp('2011-06-30 00:00:00'))],\n",
      " 'SH600688': [(Timestamp('2010-01-01 00:00:00'),\n",
      "               Timestamp('2010-12-31 00:00:00'))],\n",
      " 'SH600690': [(Timestamp('2013-12-16 00:00:00'),\n",
      "               Timestamp('2020-10-20 00:00:00'))],\n",
      " 'SH600703': [(Timestamp('2017-12-11 00:00:00'),\n",
      "               Timestamp('2019-12-13 00:00:00')),\n",
      "              (Timestamp('2014-12-15 00:00:00'),\n",
      "               Timestamp('2015-12-11 00:00:00'))],\n",
      " 'SH600705': [(Timestamp('2015-06-15 00:00:00'),\n",
      "               Timestamp('2017-06-09 00:00:00'))],\n",
      " 'SH600795': [(Timestamp('2010-01-01 00:00:00'),\n",
      "               Timestamp('2018-12-14 00:00:00'))],\n",
      " 'SH600808': [(Timestamp('2010-01-01 00:00:00'),\n",
      "               Timestamp('2010-06-30 00:00:00'))],\n",
      " 'SH600832': [(Timestamp('2010-01-01 00:00:00'),\n",
      "               Timestamp('2011-12-30 00:00:00'))],\n",
      " 'SH600837': [(Timestamp('2010-01-01 00:00:00'),\n",
      "               Timestamp('2020-10-20 00:00:00'))],\n",
      " 'SH600871': [(Timestamp('2016-06-13 00:00:00'),\n",
      "               Timestamp('2017-06-09 00:00:00'))],\n",
      " 'SH600875': [(Timestamp('2010-01-01 00:00:00'),\n",
      "               Timestamp('2013-12-13 00:00:00'))],\n",
      " 'SH600886': [(Timestamp('2010-01-01 00:00:00'),\n",
      "               Timestamp('2017-06-09 00:00:00'))],\n",
      " 'SH600887': [(Timestamp('2013-01-04 00:00:00'),\n",
      "               Timestamp('2020-10-20 00:00:00'))],\n",
      " 'SH600893': [(Timestamp('2015-06-15 00:00:00'),\n",
      "               Timestamp('2018-12-14 00:00:00'))],\n",
      " 'SH600900': [(Timestamp('2010-01-01 00:00:00'),\n",
      "               Timestamp('2020-10-20 00:00:00'))],\n",
      " 'SH600919': [(Timestamp('2017-06-12 00:00:00'),\n",
      "               Timestamp('2020-10-20 00:00:00'))],\n",
      " 'SH600958': [(Timestamp('2015-06-15 00:00:00'),\n",
      "               Timestamp('2020-06-12 00:00:00'))],\n",
      " 'SH600959': [(Timestamp('2015-12-14 00:00:00'),\n",
      "               Timestamp('2017-06-09 00:00:00'))],\n",
      " 'SH600999': [(Timestamp('2010-07-01 00:00:00'),\n",
      "               Timestamp('2020-10-20 00:00:00'))],\n",
      " 'SH601006': [(Timestamp('2010-01-01 00:00:00'),\n",
      "               Timestamp('2020-10-20 00:00:00'))],\n",
      " 'SH601009': [(Timestamp('2017-06-12 00:00:00'),\n",
      "               Timestamp('2020-10-20 00:00:00')),\n",
      "              (Timestamp('2010-01-01 00:00:00'),\n",
      "               Timestamp('2011-12-30 00:00:00'))],\n",
      " 'SH601018': [(Timestamp('2011-07-01 00:00:00'),\n",
      "               Timestamp('2019-12-13 00:00:00'))],\n",
      " 'SH601066': [(Timestamp('2019-06-17 00:00:00'),\n",
      "               Timestamp('2020-10-20 00:00:00'))],\n",
      " 'SH601088': [(Timestamp('2010-01-01 00:00:00'),\n",
      "               Timestamp('2020-10-20 00:00:00'))],\n",
      " 'SH601111': [(Timestamp('2010-01-01 00:00:00'),\n",
      "               Timestamp('2020-10-20 00:00:00'))],\n",
      " 'SH601117': [(Timestamp('2013-01-04 00:00:00'),\n",
      "               Timestamp('2015-06-12 00:00:00'))],\n",
      " 'SH601118': [(Timestamp('2011-07-01 00:00:00'),\n",
      "               Timestamp('2013-06-28 00:00:00'))],\n",
      " 'SH601138': [(Timestamp('2018-12-17 00:00:00'),\n",
      "               Timestamp('2020-10-20 00:00:00'))],\n",
      " 'SH601158': [(Timestamp('2011-01-04 00:00:00'),\n",
      "               Timestamp('2015-06-12 00:00:00'))],\n",
      " 'SH601166': [(Timestamp('2010-01-01 00:00:00'),\n",
      "               Timestamp('2020-10-20 00:00:00'))],\n",
      " 'SH601168': [(Timestamp('2010-01-01 00:00:00'),\n",
      "               Timestamp('2012-12-31 00:00:00'))],\n",
      " 'SH601169': [(Timestamp('2010-01-01 00:00:00'),\n",
      "               Timestamp('2020-10-20 00:00:00'))],\n",
      " 'SH601186': [(Timestamp('2010-01-01 00:00:00'),\n",
      "               Timestamp('2020-10-20 00:00:00'))],\n",
      " 'SH601198': [(Timestamp('2016-12-12 00:00:00'),\n",
      "               Timestamp('2017-12-08 00:00:00'))],\n",
      " 'SH601211': [(Timestamp('2015-12-14 00:00:00'),\n",
      "               Timestamp('2020-10-20 00:00:00'))],\n",
      " 'SH601225': [(Timestamp('2014-06-16 00:00:00'),\n",
      "               Timestamp('2020-10-20 00:00:00'))],\n",
      " 'SH601229': [(Timestamp('2017-06-12 00:00:00'),\n",
      "               Timestamp('2020-10-20 00:00:00'))],\n",
      " 'SH601238': [(Timestamp('2018-06-11 00:00:00'),\n",
      "               Timestamp('2020-10-20 00:00:00'))],\n",
      " 'SH601288': [(Timestamp('2010-01-01 00:00:00'),\n",
      "               Timestamp('2020-10-20 00:00:00'))],\n",
      " 'SH601318': [(Timestamp('2010-01-01 00:00:00'),\n",
      "               Timestamp('2020-10-20 00:00:00'))],\n",
      " 'SH601319': [(Timestamp('2019-06-17 00:00:00'),\n",
      "               Timestamp('2020-10-20 00:00:00'))],\n",
      " 'SH601328': [(Timestamp('2010-01-01 00:00:00'),\n",
      "               Timestamp('2020-10-20 00:00:00'))],\n",
      " 'SH601333': [(Timestamp('2010-01-01 00:00:00'),\n",
      "               Timestamp('2010-06-30 00:00:00'))],\n",
      " 'SH601336': [(Timestamp('2012-07-02 00:00:00'),\n",
      "               Timestamp('2020-10-20 00:00:00'))],\n",
      " 'SH601360': [(Timestamp('2018-06-11 00:00:00'),\n",
      "               Timestamp('2020-10-20 00:00:00'))],\n",
      " 'SH601377': [(Timestamp('2015-12-14 00:00:00'),\n",
      "               Timestamp('2017-06-09 00:00:00'))],\n",
      " 'SH601390': [(Timestamp('2010-01-01 00:00:00'),\n",
      "               Timestamp('2020-10-20 00:00:00'))],\n",
      " 'SH601398': [(Timestamp('2010-01-01 00:00:00'),\n",
      "               Timestamp('2020-10-20 00:00:00'))],\n",
      " 'SH601558': [(Timestamp('2011-07-01 00:00:00'),\n",
      "               Timestamp('2013-06-28 00:00:00'))],\n",
      " 'SH601600': [(Timestamp('2010-01-01 00:00:00'),\n",
      "               Timestamp('2017-06-09 00:00:00'))],\n",
      " 'SH601601': [(Timestamp('2010-01-01 00:00:00'),\n",
      "               Timestamp('2020-10-20 00:00:00'))],\n",
      " 'SH601607': [(Timestamp('2011-07-01 00:00:00'),\n",
      "               Timestamp('2012-12-31 00:00:00'))],\n",
      " 'SH601618': [(Timestamp('2010-01-04 00:00:00'),\n",
      "               Timestamp('2019-12-13 00:00:00'))],\n",
      " 'SH601628': [(Timestamp('2010-01-01 00:00:00'),\n",
      "               Timestamp('2020-10-20 00:00:00'))],\n",
      " 'SH601633': [(Timestamp('2013-07-01 00:00:00'),\n",
      "               Timestamp('2019-06-14 00:00:00'))],\n",
      " 'SH601658': [(Timestamp('2020-06-15 00:00:00'),\n",
      "               Timestamp('2020-10-20 00:00:00'))],\n",
      " 'SH601666': [(Timestamp('2010-01-01 00:00:00'),\n",
      "               Timestamp('2013-06-28 00:00:00'))],\n",
      " 'SH601668': [(Timestamp('2010-01-04 00:00:00'),\n",
      "               Timestamp('2020-10-20 00:00:00'))],\n",
      " 'SH601669': [(Timestamp('2012-07-02 00:00:00'),\n",
      "               Timestamp('2020-10-20 00:00:00'))],\n",
      " 'SH601688': [(Timestamp('2010-07-01 00:00:00'),\n",
      "               Timestamp('2020-10-20 00:00:00'))],\n",
      " 'SH601699': [(Timestamp('2010-01-01 00:00:00'),\n",
      "               Timestamp('2014-12-12 00:00:00'))],\n",
      " 'SH601727': [(Timestamp('2014-12-15 00:00:00'),\n",
      "               Timestamp('2020-06-12 00:00:00')),\n",
      "              (Timestamp('2010-01-01 00:00:00'),\n",
      "               Timestamp('2012-06-29 00:00:00'))],\n",
      " 'SH601766': [(Timestamp('2010-01-01 00:00:00'),\n",
      "               Timestamp('2020-10-20 00:00:00'))],\n",
      " 'SH601788': [(Timestamp('2015-06-15 00:00:00'),\n",
      "               Timestamp('2018-06-08 00:00:00')),\n",
      "              (Timestamp('2010-07-01 00:00:00'),\n",
      "               Timestamp('2013-12-13 00:00:00'))],\n",
      " 'SH601800': [(Timestamp('2013-01-04 00:00:00'),\n",
      "               Timestamp('2020-10-20 00:00:00'))],\n",
      " 'SH601808': [(Timestamp('2010-01-01 00:00:00'),\n",
      "               Timestamp('2016-06-08 00:00:00'))],\n",
      " 'SH601816': [(Timestamp('2020-06-15 00:00:00'),\n",
      "               Timestamp('2020-10-20 00:00:00'))],\n",
      " 'SH601818': [(Timestamp('2011-01-04 00:00:00'),\n",
      "               Timestamp('2020-10-20 00:00:00'))],\n",
      " 'SH601857': [(Timestamp('2010-01-01 00:00:00'),\n",
      "               Timestamp('2020-10-20 00:00:00'))],\n",
      " 'SH601866': [(Timestamp('2010-01-01 00:00:00'),\n",
      "               Timestamp('2012-06-29 00:00:00'))],\n",
      " 'SH601881': [(Timestamp('2017-06-12 00:00:00'),\n",
      "               Timestamp('2020-10-20 00:00:00'))],\n",
      " 'SH601888': [(Timestamp('2018-12-17 00:00:00'),\n",
      "               Timestamp('2020-10-20 00:00:00')),\n",
      "              (Timestamp('2014-12-15 00:00:00'),\n",
      "               Timestamp('2015-06-12 00:00:00'))],\n",
      " 'SH601898': [(Timestamp('2010-01-01 00:00:00'),\n",
      "               Timestamp('2016-12-09 00:00:00'))],\n",
      " 'SH601899': [(Timestamp('2010-01-01 00:00:00'),\n",
      "               Timestamp('2020-10-20 00:00:00'))],\n",
      " 'SH601901': [(Timestamp('2014-06-16 00:00:00'),\n",
      "               Timestamp('2018-06-08 00:00:00'))],\n",
      " 'SH601919': [(Timestamp('2010-01-01 00:00:00'),\n",
      "               Timestamp('2012-12-31 00:00:00'))],\n",
      " 'SH601933': [(Timestamp('2018-06-11 00:00:00'),\n",
      "               Timestamp('2020-10-20 00:00:00'))],\n",
      " 'SH601939': [(Timestamp('2010-01-01 00:00:00'),\n",
      "               Timestamp('2016-06-08 00:00:00'))],\n",
      " 'SH601958': [(Timestamp('2010-01-01 00:00:00'),\n",
      "               Timestamp('2014-06-13 00:00:00'))],\n",
      " 'SH601985': [(Timestamp('2015-12-14 00:00:00'),\n",
      "               Timestamp('2020-10-20 00:00:00'))],\n",
      " 'SH601988': [(Timestamp('2010-01-01 00:00:00'),\n",
      "               Timestamp('2020-10-20 00:00:00'))],\n",
      " 'SH601989': [(Timestamp('2010-07-01 00:00:00'),\n",
      "               Timestamp('2020-10-20 00:00:00'))],\n",
      " 'SH601991': [(Timestamp('2013-07-01 00:00:00'),\n",
      "               Timestamp('2014-12-12 00:00:00')),\n",
      "              (Timestamp('2012-01-04 00:00:00'),\n",
      "               Timestamp('2012-12-31 00:00:00')),\n",
      "              (Timestamp('2010-01-01 00:00:00'),\n",
      "               Timestamp('2010-12-31 00:00:00'))],\n",
      " 'SH601998': [(Timestamp('2010-01-01 00:00:00'),\n",
      "               Timestamp('2020-10-20 00:00:00'))],\n",
      " 'SH603160': [(Timestamp('2020-06-15 00:00:00'),\n",
      "               Timestamp('2020-10-20 00:00:00'))],\n",
      " 'SH603259': [(Timestamp('2018-12-17 00:00:00'),\n",
      "               Timestamp('2020-10-20 00:00:00'))],\n",
      " 'SH603288': [(Timestamp('2018-06-11 00:00:00'),\n",
      "               Timestamp('2020-10-20 00:00:00')),\n",
      "              (Timestamp('2014-12-15 00:00:00'),\n",
      "               Timestamp('2016-06-08 00:00:00'))],\n",
      " 'SH603993': [(Timestamp('2017-12-11 00:00:00'),\n",
      "               Timestamp('2020-10-20 00:00:00'))],\n",
      " 'SZ000001': [(Timestamp('2010-01-01 00:00:00'),\n",
      "               Timestamp('2020-10-20 00:00:00'))],\n",
      " 'SZ000002': [(Timestamp('2010-01-01 00:00:00'),\n",
      "               Timestamp('2020-10-20 00:00:00'))],\n",
      " 'SZ000024': [(Timestamp('2013-07-01 00:00:00'),\n",
      "               Timestamp('2014-12-12 00:00:00')),\n",
      "              (Timestamp('2010-01-04 00:00:00'),\n",
      "               Timestamp('2011-06-30 00:00:00'))],\n",
      " 'SZ000027': [(Timestamp('2010-01-01 00:00:00'),\n",
      "               Timestamp('2010-06-30 00:00:00'))],\n",
      " 'SZ000063': [(Timestamp('2010-01-01 00:00:00'),\n",
      "               Timestamp('2020-10-20 00:00:00'))],\n",
      " 'SZ000069': [(Timestamp('2010-01-01 00:00:00'),\n",
      "               Timestamp('2019-12-13 00:00:00'))],\n",
      " 'SZ000157': [(Timestamp('2010-01-01 00:00:00'),\n",
      "               Timestamp('2015-06-12 00:00:00'))],\n",
      " 'SZ000166': [(Timestamp('2010-01-01 00:00:00'),\n",
      "               Timestamp('2020-10-20 00:00:00'))],\n",
      " 'SZ000333': [(Timestamp('2010-01-01 00:00:00'),\n",
      "               Timestamp('2020-10-20 00:00:00'))],\n",
      " 'SZ000338': [(Timestamp('2011-01-04 00:00:00'),\n",
      "               Timestamp('2015-06-12 00:00:00'))],\n",
      " 'SZ000402': [(Timestamp('2010-01-01 00:00:00'),\n",
      "               Timestamp('2010-06-30 00:00:00'))],\n",
      " 'SZ000425': [(Timestamp('2011-07-01 00:00:00'),\n",
      "               Timestamp('2013-12-13 00:00:00'))],\n",
      " 'SZ000538': [(Timestamp('2011-07-01 00:00:00'),\n",
      "               Timestamp('2020-10-20 00:00:00'))],\n",
      " 'SZ000562': [(Timestamp('2010-01-01 00:00:00'),\n",
      "               Timestamp('2010-12-31 00:00:00'))],\n",
      " 'SZ000568': [(Timestamp('2018-06-11 00:00:00'),\n",
      "               Timestamp('2020-10-20 00:00:00')),\n",
      "              (Timestamp('2010-01-01 00:00:00'),\n",
      "               Timestamp('2014-12-12 00:00:00'))],\n",
      " 'SZ000625': [(Timestamp('2014-06-16 00:00:00'),\n",
      "               Timestamp('2018-06-08 00:00:00'))],\n",
      " 'SZ000629': [(Timestamp('2012-01-04 00:00:00'),\n",
      "               Timestamp('2014-06-13 00:00:00'))],\n",
      " 'SZ000651': [(Timestamp('2010-01-01 00:00:00'),\n",
      "               Timestamp('2020-10-20 00:00:00'))],\n",
      " 'SZ000709': [(Timestamp('2010-01-01 00:00:00'),\n",
      "               Timestamp('2011-06-30 00:00:00'))],\n",
      " 'SZ000725': [(Timestamp('2014-12-15 00:00:00'),\n",
      "               Timestamp('2020-10-20 00:00:00'))],\n",
      " 'SZ000728': [(Timestamp('2010-01-01 00:00:00'),\n",
      "               Timestamp('2011-06-30 00:00:00'))],\n",
      " 'SZ000776': [(Timestamp('2011-01-04 00:00:00'),\n",
      "               Timestamp('2020-10-20 00:00:00'))],\n",
      " 'SZ000783': [(Timestamp('2010-01-01 00:00:00'),\n",
      "               Timestamp('2011-06-30 00:00:00'))],\n",
      " 'SZ000792': [(Timestamp('2010-01-01 00:00:00'),\n",
      "               Timestamp('2014-12-12 00:00:00'))],\n",
      " 'SZ000825': [(Timestamp('2010-01-01 00:00:00'),\n",
      "               Timestamp('2012-06-29 00:00:00'))],\n",
      " 'SZ000858': [(Timestamp('2010-01-01 00:00:00'),\n",
      "               Timestamp('2020-10-20 00:00:00'))],\n",
      " 'SZ000869': [(Timestamp('2012-07-02 00:00:00'),\n",
      "               Timestamp('2013-06-28 00:00:00'))],\n",
      " 'SZ000878': [(Timestamp('2010-01-01 00:00:00'),\n",
      "               Timestamp('2011-12-30 00:00:00'))],\n",
      " 'SZ000895': [(Timestamp('2011-07-01 00:00:00'),\n",
      "               Timestamp('2020-10-20 00:00:00'))],\n",
      " 'SZ000898': [(Timestamp('2010-01-01 00:00:00'),\n",
      "               Timestamp('2013-06-28 00:00:00'))],\n",
      " 'SZ000937': [(Timestamp('2012-01-04 00:00:00'),\n",
      "               Timestamp('2014-06-13 00:00:00'))],\n",
      " 'SZ000983': [(Timestamp('2010-01-01 00:00:00'),\n",
      "               Timestamp('2014-06-13 00:00:00'))],\n",
      " 'SZ001979': [(Timestamp('2016-06-13 00:00:00'),\n",
      "               Timestamp('2020-10-20 00:00:00'))],\n",
      " 'SZ002024': [(Timestamp('2010-01-01 00:00:00'),\n",
      "               Timestamp('2020-10-20 00:00:00'))],\n",
      " 'SZ002027': [(Timestamp('2016-06-13 00:00:00'),\n",
      "               Timestamp('2020-10-20 00:00:00'))],\n",
      " 'SZ002142': [(Timestamp('2017-06-12 00:00:00'),\n",
      "               Timestamp('2020-10-20 00:00:00')),\n",
      "              (Timestamp('2010-01-01 00:00:00'),\n",
      "               Timestamp('2014-06-13 00:00:00'))],\n",
      " 'SZ002202': [(Timestamp('2010-01-01 00:00:00'),\n",
      "               Timestamp('2012-06-29 00:00:00'))],\n",
      " 'SZ002236': [(Timestamp('2013-12-16 00:00:00'),\n",
      "               Timestamp('2015-06-12 00:00:00'))],\n",
      " 'SZ002241': [(Timestamp('2013-12-16 00:00:00'),\n",
      "               Timestamp('2015-12-11 00:00:00'))],\n",
      " 'SZ002252': [(Timestamp('2015-06-15 00:00:00'),\n",
      "               Timestamp('2019-06-14 00:00:00'))],\n",
      " 'SZ002304': [(Timestamp('2010-07-01 00:00:00'),\n",
      "               Timestamp('2020-10-20 00:00:00'))],\n",
      " 'SZ002352': [(Timestamp('2017-06-12 00:00:00'),\n",
      "               Timestamp('2020-10-20 00:00:00'))],\n",
      " 'SZ002353': [(Timestamp('2013-12-16 00:00:00'),\n",
      "               Timestamp('2015-06-12 00:00:00'))],\n",
      " 'SZ002399': [(Timestamp('2011-01-04 00:00:00'),\n",
      "               Timestamp('2012-06-29 00:00:00'))],\n",
      " 'SZ002415': [(Timestamp('2011-07-01 00:00:00'),\n",
      "               Timestamp('2020-10-20 00:00:00'))],\n",
      " 'SZ002450': [(Timestamp('2018-06-11 00:00:00'),\n",
      "               Timestamp('2019-06-14 00:00:00'))],\n",
      " 'SZ002475': [(Timestamp('2019-12-16 00:00:00'),\n",
      "               Timestamp('2020-10-20 00:00:00'))],\n",
      " 'SZ002558': [(Timestamp('2017-06-12 00:00:00'),\n",
      "               Timestamp('2018-12-14 00:00:00'))],\n",
      " 'SZ002594': [(Timestamp('2012-07-02 00:00:00'),\n",
      "               Timestamp('2020-10-20 00:00:00'))],\n",
      " 'SZ002607': [(Timestamp('2020-06-15 00:00:00'),\n",
      "               Timestamp('2020-10-20 00:00:00'))],\n",
      " 'SZ002673': [(Timestamp('2016-06-13 00:00:00'),\n",
      "               Timestamp('2017-12-08 00:00:00'))],\n",
      " 'SZ002714': [(Timestamp('2020-06-15 00:00:00'),\n",
      "               Timestamp('2020-10-20 00:00:00'))],\n",
      " 'SZ002736': [(Timestamp('2015-06-15 00:00:00'),\n",
      "               Timestamp('2020-10-20 00:00:00'))],\n",
      " 'SZ002739': [(Timestamp('2015-12-14 00:00:00'),\n",
      "               Timestamp('2018-06-08 00:00:00'))],\n",
      " 'SZ002797': [(Timestamp('2016-12-12 00:00:00'),\n",
      "               Timestamp('2018-06-08 00:00:00'))],\n",
      " 'SZ003816': [(Timestamp('2020-06-15 00:00:00'),\n",
      "               Timestamp('2020-10-20 00:00:00'))],\n",
      " 'SZ300015': [(Timestamp('2019-12-16 00:00:00'),\n",
      "               Timestamp('2020-10-20 00:00:00'))],\n",
      " 'SZ300059': [(Timestamp('2015-12-14 00:00:00'),\n",
      "               Timestamp('2020-10-20 00:00:00'))],\n",
      " 'SZ300104': [(Timestamp('2015-12-14 00:00:00'),\n",
      "               Timestamp('2017-12-08 00:00:00'))],\n",
      " 'SZ300498': [(Timestamp('2019-06-17 00:00:00'),\n",
      "               Timestamp('2020-10-20 00:00:00'))]}\n"
     ]
    }
   ],
   "source": [
    "# dynamic universe\n",
    "universe = D.list_instruments(D.instruments(\"csi100\"), start_time=\"2010-01-01\", end_time=\"2020-12-31\")\n",
    "pprint(universe)"
   ]
  },
  {
   "cell_type": "code",
   "execution_count": 13,
   "id": "6be08f23",
   "metadata": {},
   "outputs": [
    {
     "name": "stdout",
     "output_type": "stream",
     "text": [
      "202\n"
     ]
    }
   ],
   "source": [
    "print(len(universe))"
   ]
  },
  {
   "attachments": {},
   "cell_type": "markdown",
   "id": "28e7dd04",
   "metadata": {},
   "source": [
    "Qlib use dynamic universe by default.\n",
    "\n",
    "csi100 has around 100 stocks each day(it is not that accurate due to the low\n",
    "precision of data).\n"
   ]
  },
  {
   "cell_type": "code",
   "execution_count": 14,
   "id": "ad8b8503",
   "metadata": {},
   "outputs": [
    {
     "data": {
      "text/plain": [
       "<Axes: xlabel='datetime'>"
      ]
     },
     "execution_count": 14,
     "metadata": {},
     "output_type": "execute_result"
    },
    {
     "data": {
      "image/png": "[encoded data removed]",
      "text/plain": [
       "<Figure size 640x480 with 1 Axes>"
      ]
     },
     "metadata": {},
     "output_type": "display_data"
    }
   ],
   "source": [
    "df = D.features(D.instruments(\"csi100\"), [\"$close\"], start_time=\"2010-01-01\", end_time=\"2020-12-31\")\n",
    "df.groupby(\"datetime\").size().plot()"
   ]
  },
  {
   "attachments": {},
   "cell_type": "markdown",
   "id": "5f37f2ef",
   "metadata": {},
   "source": [
    "### Point-In-Time data\n"
   ]
  },
  {
   "attachments": {},
   "cell_type": "markdown",
   "id": "5dfa9e9d",
   "metadata": {},
   "source": [
    "#### download data\n",
    "\n",
    "NOTE: To run the test faster, we only download the data of two stocks\n"
   ]
  },
  {
   "cell_type": "code",
   "execution_count": 17,
   "id": "da0a9564",
   "metadata": {},
   "outputs": [],
   "source": [
    "p = Path(\"~/.qlib/qlib_data/cn_data/financial\").expanduser()"
   ]
  },
  {
   "cell_type": "code",
   "execution_count": null,
   "id": "4657fe13",
   "metadata": {},
   "outputs": [],
   "source": [
    "if not p.exists():\n",
    "    !cd ../../scripts/data_collector/pit/ && pip install -r requirements.txt\n",
    "    !cd ../../scripts/data_collector/pit/ && python collector.py download_data --source_dir ~/.qlib/stock_data/source/pit --start 2000-01-01 --end 2020-01-01 --interval quarterly --symbol_regex \"^(600519|000725).*\"\n",
    "    !cd ../../scripts/data_collector/pit/ && python collector.py normalize_data --interval quarterly --source_dir ~/.qlib/stock_data/source/pit --normalize_dir ~/.qlib/stock_data/source/pit_normalized\n",
    "    !cd ../../scripts/ && python dump_pit.py dump --csv_path ~/.qlib/stock_data/source/pit_normalized --qlib_dir ~/.qlib/qlib_data/cn_data --interval quarterly"
   ]
  },
  {
   "attachments": {},
   "cell_type": "markdown",
   "id": "9358cb89",
   "metadata": {},
   "source": [
    "#### querying data\n",
    "\n",
    "using `roewa(performanceExpressROEWa,业绩快报净资产收益率ROE-加权)` as an\n",
    "example\n",
    "\n",
    "If we want to get fundamental data `in the most recent quarter` daily, we can\n",
    "use following example.\n",
    "\n",
    "Maitai release part of its fundamental data on\n",
    "[2019-07-13](http://www.cninfo.com.cn/new/disclosure/detail?stockCode=600519&announcementId=1206443183&orgId=gssh0600519&announcementTime=2019-07-13)\n",
    "and release others on\n",
    "[2019-07-18](http://www.cninfo.com.cn/new/disclosure/detail?stockCode=600519&announcementId=1206456129&orgId=gssh0600519&announcementTime=2019-07-18)\n"
   ]
  },
  {
   "cell_type": "code",
   "execution_count": 15,
   "id": "47ee1621",
   "metadata": {},
   "outputs": [
    {
     "name": "stderr",
     "output_type": "stream",
     "text": [
      "[13920:MainThread](2023-06-28 11:19:56,193) WARNING - qlib.base - [pit.py:43] - WARN: period data not found for P($$roewa_q)\n"
     ]
    }
   ],
   "source": [
    "instruments = [\"sh600519\"]\n",
    "data = D.features(\n",
    "    instruments,\n",
    "    [\"P($$roewa_q)\"],\n",
    "    start_time=\"2019-01-01\",\n",
    "    end_time=\"2019-07-19\",\n",
    "    freq=\"day\",\n",
    ")"
   ]
  },
  {
   "cell_type": "code",
   "execution_count": 16,
   "id": "752f4ffe",
   "metadata": {},
   "outputs": [
    {
     "data": {
      "text/html": [
       "<div>\n",
       "<style scoped>\n",
       "    .dataframe tbody tr th:only-of-type {\n",
       "        vertical-align: middle;\n",
       "    }\n",
       "\n",
       "    .dataframe tbody tr th {\n",
       "        vertical-align: top;\n",
       "    }\n",
       "\n",
       "    .dataframe thead th {\n",
       "        text-align: right;\n",
       "    }\n",
       "</style>\n",
       "<table border=\"1\" class=\"dataframe\">\n",
       "  <thead>\n",
       "    <tr style=\"text-align: right;\">\n",
       "      <th></th>\n",
       "      <th></th>\n",
       "      <th>P($$roewa_q)</th>\n",
       "    </tr>\n",
       "    <tr>\n",
       "      <th>instrument</th>\n",
       "      <th>datetime</th>\n",
       "      <th></th>\n",
       "    </tr>\n",
       "  </thead>\n",
       "  <tbody>\n",
       "  </tbody>\n",
       "</table>\n",
       "</div>"
      ],
      "text/plain": [
       "Empty DataFrame\n",
       "Columns: [P($$roewa_q)]\n",
       "Index: []"
      ]
     },
     "execution_count": 16,
     "metadata": {},
     "output_type": "execute_result"
    }
   ],
   "source": [
    "data.tail(15)"
   ]
  },
  {
   "attachments": {},
   "cell_type": "markdown",
   "id": "0e370d2d",
   "metadata": {},
   "source": [
    "### experss engine\n"
   ]
  },
  {
   "cell_type": "code",
   "execution_count": 18,
   "id": "a46d166c",
   "metadata": {},
   "outputs": [
    {
     "data": {
      "text/html": [
       "<div>\n",
       "<style scoped>\n",
       "    .dataframe tbody tr th:only-of-type {\n",
       "        vertical-align: middle;\n",
       "    }\n",
       "\n",
       "    .dataframe tbody tr th {\n",
       "        vertical-align: top;\n",
       "    }\n",
       "\n",
       "    .dataframe thead th {\n",
       "        text-align: right;\n",
       "    }\n",
       "</style>\n",
       "<table border=\"1\" class=\"dataframe\">\n",
       "  <thead>\n",
       "    <tr style=\"text-align: right;\">\n",
       "      <th></th>\n",
       "      <th></th>\n",
       "      <th>(EMA($close, 12) - EMA($close, 26))/$close - EMA((EMA($close, 12) - EMA($close, 26))/$close, 9)/$close</th>\n",
       "    </tr>\n",
       "    <tr>\n",
       "      <th>instrument</th>\n",
       "      <th>datetime</th>\n",
       "      <th></th>\n",
       "    </tr>\n",
       "  </thead>\n",
       "  <tbody>\n",
       "    <tr>\n",
       "      <th rowspan=\"11\" valign=\"top\">sh600519</th>\n",
       "      <th>2001-08-27</th>\n",
       "      <td>0.000000</td>\n",
       "    </tr>\n",
       "    <tr>\n",
       "      <th>2001-08-28</th>\n",
       "      <td>0.000370</td>\n",
       "    </tr>\n",
       "    <tr>\n",
       "      <th>2001-08-29</th>\n",
       "      <td>0.000116</td>\n",
       "    </tr>\n",
       "    <tr>\n",
       "      <th>2001-08-30</th>\n",
       "      <td>0.000491</td>\n",
       "    </tr>\n",
       "    <tr>\n",
       "      <th>2001-08-31</th>\n",
       "      <td>0.000507</td>\n",
       "    </tr>\n",
       "    <tr>\n",
       "      <th>...</th>\n",
       "      <td>...</td>\n",
       "    </tr>\n",
       "    <tr>\n",
       "      <th>2020-09-21</th>\n",
       "      <td>0.001601</td>\n",
       "    </tr>\n",
       "    <tr>\n",
       "      <th>2020-09-22</th>\n",
       "      <td>-0.000796</td>\n",
       "    </tr>\n",
       "    <tr>\n",
       "      <th>2020-09-23</th>\n",
       "      <td>-0.003449</td>\n",
       "    </tr>\n",
       "    <tr>\n",
       "      <th>2020-09-24</th>\n",
       "      <td>-0.006562</td>\n",
       "    </tr>\n",
       "    <tr>\n",
       "      <th>2020-09-25</th>\n",
       "      <td>-0.008577</td>\n",
       "    </tr>\n",
       "  </tbody>\n",
       "</table>\n",
       "<p>4517 rows × 1 columns</p>\n",
       "</div>"
      ],
      "text/plain": [
       "                       (EMA($close, 12) - EMA($close, 26))/$close - EMA((EMA($close, 12) - EMA($close, 26))/$close, 9)/$close\n",
       "instrument datetime                                                                                                          \n",
       "sh600519   2001-08-27                                           0.000000                                                     \n",
       "           2001-08-28                                           0.000370                                                     \n",
       "           2001-08-29                                           0.000116                                                     \n",
       "           2001-08-30                                           0.000491                                                     \n",
       "           2001-08-31                                           0.000507                                                     \n",
       "...                                                                  ...                                                     \n",
       "           2020-09-21                                           0.001601                                                     \n",
       "           2020-09-22                                          -0.000796                                                     \n",
       "           2020-09-23                                          -0.003449                                                     \n",
       "           2020-09-24                                          -0.006562                                                     \n",
       "           2020-09-25                                          -0.008577                                                     \n",
       "\n",
       "[4517 rows x 1 columns]"
      ]
     },
     "execution_count": 18,
     "metadata": {},
     "output_type": "execute_result"
    }
   ],
   "source": [
    "D.features(\n",
    "    [\"sh600519\"],\n",
    "    [\"(EMA($close, 12) - EMA($close, 26))/$close - EMA((EMA($close, 12) - EMA($close, 26))/$close, 9)/$close\"],\n",
    ")"
   ]
  },
  {
   "attachments": {},
   "cell_type": "markdown",
   "id": "5ddcd1ea",
   "metadata": {},
   "source": [
    "## Dataset loading and preprocessing\n"
   ]
  },
  {
   "attachments": {},
   "cell_type": "markdown",
   "id": "f54c6804",
   "metadata": {},
   "source": [
    "Some heuristic principles of create features\n",
    "\n",
    "- make the features comparable between instrumets: remove unit from the\n",
    "  features.\n",
    "- try to keep the distribution invariant\n",
    "- keep the scale of features similar\n"
   ]
  },
  {
   "attachments": {},
   "cell_type": "markdown",
   "id": "93013dcd",
   "metadata": {},
   "source": [
    "### data loader\n",
    "\n",
    "It's interface can be found\n",
    "[here](https://github.com/microsoft/qlib/blob/main/qlib/data/dataset/loader.py#L24)\n",
    "\n",
    "QlibDataLoader is an implementation which load data from Qlib's data source\n"
   ]
  },
  {
   "cell_type": "code",
   "execution_count": 19,
   "id": "dcfa44a6",
   "metadata": {},
   "outputs": [],
   "source": [
    "from qlib.data.dataset.loader import QlibDataLoader"
   ]
  },
  {
   "cell_type": "code",
   "execution_count": 22,
   "id": "5d78b4bf",
   "metadata": {},
   "outputs": [],
   "source": [
    "qdl = QlibDataLoader(config=([\"$close / Ref($close, 9)\"], [\"RET10\"]))"
   ]
  },
  {
   "cell_type": "code",
   "execution_count": 23,
   "id": "3fb29d8e",
   "metadata": {},
   "outputs": [
    {
     "data": {
      "text/html": [
       "<div>\n",
       "<style scoped>\n",
       "    .dataframe tbody tr th:only-of-type {\n",
       "        vertical-align: middle;\n",
       "    }\n",
       "\n",
       "    .dataframe tbody tr th {\n",
       "        vertical-align: top;\n",
       "    }\n",
       "\n",
       "    .dataframe thead th {\n",
       "        text-align: right;\n",
       "    }\n",
       "</style>\n",
       "<table border=\"1\" class=\"dataframe\">\n",
       "  <thead>\n",
       "    <tr style=\"text-align: right;\">\n",
       "      <th></th>\n",
       "      <th></th>\n",
       "      <th>RET10</th>\n",
       "    </tr>\n",
       "    <tr>\n",
       "      <th>datetime</th>\n",
       "      <th>instrument</th>\n",
       "      <th></th>\n",
       "    </tr>\n",
       "  </thead>\n",
       "  <tbody>\n",
       "    <tr>\n",
       "      <th>2019-01-02</th>\n",
       "      <th>sh600519</th>\n",
       "      <td>1.013605</td>\n",
       "    </tr>\n",
       "    <tr>\n",
       "      <th>2019-01-03</th>\n",
       "      <th>sh600519</th>\n",
       "      <td>1.021114</td>\n",
       "    </tr>\n",
       "    <tr>\n",
       "      <th>2019-01-04</th>\n",
       "      <th>sh600519</th>\n",
       "      <td>1.047868</td>\n",
       "    </tr>\n",
       "    <tr>\n",
       "      <th>2019-01-07</th>\n",
       "      <th>sh600519</th>\n",
       "      <td>1.067112</td>\n",
       "    </tr>\n",
       "    <tr>\n",
       "      <th>2019-01-08</th>\n",
       "      <th>sh600519</th>\n",
       "      <td>1.064771</td>\n",
       "    </tr>\n",
       "    <tr>\n",
       "      <th>...</th>\n",
       "      <th>...</th>\n",
       "      <td>...</td>\n",
       "    </tr>\n",
       "    <tr>\n",
       "      <th>2019-12-25</th>\n",
       "      <th>sh600519</th>\n",
       "      <td>0.997098</td>\n",
       "    </tr>\n",
       "    <tr>\n",
       "      <th>2019-12-26</th>\n",
       "      <th>sh600519</th>\n",
       "      <td>0.976010</td>\n",
       "    </tr>\n",
       "    <tr>\n",
       "      <th>2019-12-27</th>\n",
       "      <th>sh600519</th>\n",
       "      <td>1.013137</td>\n",
       "    </tr>\n",
       "    <tr>\n",
       "      <th>2019-12-30</th>\n",
       "      <th>sh600519</th>\n",
       "      <td>1.013522</td>\n",
       "    </tr>\n",
       "    <tr>\n",
       "      <th>2019-12-31</th>\n",
       "      <th>sh600519</th>\n",
       "      <td>1.012842</td>\n",
       "    </tr>\n",
       "  </tbody>\n",
       "</table>\n",
       "<p>244 rows × 1 columns</p>\n",
       "</div>"
      ],
      "text/plain": [
       "                          RET10\n",
       "datetime   instrument          \n",
       "2019-01-02 sh600519    1.013605\n",
       "2019-01-03 sh600519    1.021114\n",
       "2019-01-04 sh600519    1.047868\n",
       "2019-01-07 sh600519    1.067112\n",
       "2019-01-08 sh600519    1.064771\n",
       "...                         ...\n",
       "2019-12-25 sh600519    0.997098\n",
       "2019-12-26 sh600519    0.976010\n",
       "2019-12-27 sh600519    1.013137\n",
       "2019-12-30 sh600519    1.013522\n",
       "2019-12-31 sh600519    1.012842\n",
       "\n",
       "[244 rows x 1 columns]"
      ]
     },
     "execution_count": 23,
     "metadata": {},
     "output_type": "execute_result"
    }
   ],
   "source": [
    "qdl.load(instruments=[\"sh600519\"], start_time=\"20190101\", end_time=\"20191231\")"
   ]
  },
  {
   "attachments": {},
   "cell_type": "markdown",
   "id": "0dded8f5",
   "metadata": {},
   "source": [
    "### data handler\n"
   ]
  },
  {
   "attachments": {},
   "cell_type": "markdown",
   "id": "78d6d2b0",
   "metadata": {},
   "source": [
    "finance data can't be perfect.\n",
    "\n",
    "We have to process them before feeding them into Models\n"
   ]
  },
  {
   "cell_type": "code",
   "execution_count": 24,
   "id": "c078fa3b",
   "metadata": {},
   "outputs": [],
   "source": [
    "df = qdl.load(instruments=[\"sh600519\"], start_time=\"20190101\", end_time=\"20191231\")"
   ]
  },
  {
   "cell_type": "code",
   "execution_count": 25,
   "id": "45e5adf9",
   "metadata": {},
   "outputs": [
    {
     "data": {
      "text/plain": [
       "RET10    4\n",
       "dtype: int64"
      ]
     },
     "execution_count": 25,
     "metadata": {},
     "output_type": "execute_result"
    }
   ],
   "source": [
    "df.isna().sum()"
   ]
  },
  {
   "cell_type": "code",
   "execution_count": 26,
   "id": "514b85e6",
   "metadata": {},
   "outputs": [
    {
     "data": {
      "text/plain": [
       "<Axes: ylabel='Frequency'>"
      ]
     },
     "execution_count": 26,
     "metadata": {},
     "output_type": "execute_result"
    },
    {
     "data": {
      "image/png": "[encoded data removed]",
      "text/plain": [
       "<Figure size 640x480 with 1 Axes>"
      ]
     },
     "metadata": {},
     "output_type": "display_data"
    }
   ],
   "source": [
    "df.plot(kind=\"hist\")"
   ]
  },
  {
   "attachments": {},
   "cell_type": "markdown",
   "id": "db1625f7",
   "metadata": {},
   "source": [
    "Datahander is responsible for data preprocessing and provides data fetching\n",
    "interface\n"
   ]
  },
  {
   "cell_type": "code",
   "execution_count": null,
   "id": "43b35c17",
   "metadata": {},
   "outputs": [],
   "source": [
    "from qlib.data.dataset.handler import DataHandlerLP\n",
    "from qlib.data.dataset.processor import ZScoreNorm, Fillna"
   ]
  },
  {
   "cell_type": "code",
   "execution_count": null,
   "id": "38a5f4b2",
   "metadata": {},
   "outputs": [],
   "source": [
    "# NOTE: normally, the training & validation time range will be  `fit_start_time` ， `fit_end_time`\n",
    "# however，all the components are decomposed, so the training & validation time range is unknown when preprocessing.\n",
    "dh = DataHandlerLP(\n",
    "    instruments=[\"sh600519\"],\n",
    "    start_time=\"20170101\",\n",
    "    end_time=\"20191231\",\n",
    "    infer_processors=[\n",
    "        ZScoreNorm(fit_start_time=\"20170101\", fit_end_time=\"20181231\"),\n",
    "        Fillna(),\n",
    "    ],\n",
    "    data_loader=qdl,\n",
    ")"
   ]
  },
  {
   "cell_type": "code",
   "execution_count": null,
   "id": "9469fd1e",
   "metadata": {},
   "outputs": [],
   "source": [
    "df = dh.fetch()"
   ]
  },
  {
   "cell_type": "code",
   "execution_count": null,
   "id": "fc35b3c0",
   "metadata": {},
   "outputs": [],
   "source": [
    "df"
   ]
  },
  {
   "cell_type": "code",
   "execution_count": null,
   "id": "1dd8e11b",
   "metadata": {},
   "outputs": [],
   "source": [
    "df.isna().sum()"
   ]
  },
  {
   "cell_type": "code",
   "execution_count": null,
   "id": "7208efc3",
   "metadata": {},
   "outputs": [],
   "source": [
    "df.plot(kind=\"hist\")"
   ]
  },
  {
   "attachments": {},
   "cell_type": "markdown",
   "id": "1e0fb32c",
   "metadata": {},
   "source": [
    "### dataset\n"
   ]
  },
  {
   "attachments": {},
   "cell_type": "markdown",
   "id": "0302a801",
   "metadata": {},
   "source": [
    "#### basic dataset\n"
   ]
  },
  {
   "cell_type": "code",
   "execution_count": null,
   "id": "96ef76e4",
   "metadata": {},
   "outputs": [],
   "source": [
    "from qlib.data.dataset import DatasetH, TSDatasetH"
   ]
  },
  {
   "cell_type": "code",
   "execution_count": null,
   "id": "12fd8296",
   "metadata": {},
   "outputs": [],
   "source": [
    "ds = DatasetH(dh, segments={\"train\": (\"20180101\", \"20181231\"), \"valid\": (\"20190101\", \"20191231\")})"
   ]
  },
  {
   "cell_type": "code",
   "execution_count": null,
   "id": "4cc4c199",
   "metadata": {},
   "outputs": [],
   "source": [
    "ds.prepare(\"train\")"
   ]
  },
  {
   "cell_type": "code",
   "execution_count": null,
   "id": "4639b6a7",
   "metadata": {},
   "outputs": [],
   "source": [
    "ds.prepare(\"valid\")"
   ]
  },
  {
   "attachments": {},
   "cell_type": "markdown",
   "id": "a56001e4",
   "metadata": {},
   "source": [
    "#### Time Series Dataset\n",
    "\n",
    "For different model, the required dataset format will be different.\n",
    "\n",
    "For example, Qlib provides a Time Series Dataset(TSDatasetH) to help users to\n",
    "create time-series dataset.\n"
   ]
  },
  {
   "cell_type": "code",
   "execution_count": null,
   "id": "425135e1",
   "metadata": {},
   "outputs": [],
   "source": [
    "ds = TSDatasetH(\n",
    "    step_len=10,\n",
    "    handler=dh,\n",
    "    segments={\"train\": (\"20180101\", \"20181231\"), \"valid\": (\"20190101\", \"20191231\")},\n",
    ")\n",
    "train_sampler = ds.prepare(\"train\")"
   ]
  },
  {
   "cell_type": "code",
   "execution_count": null,
   "id": "8f724041",
   "metadata": {},
   "outputs": [],
   "source": [
    "train_sampler"
   ]
  },
  {
   "cell_type": "code",
   "execution_count": null,
   "id": "e5aa762c",
   "metadata": {},
   "outputs": [],
   "source": [
    "train_sampler[0]  # Retrieving the first example"
   ]
  },
  {
   "cell_type": "code",
   "execution_count": null,
   "id": "eb64112c",
   "metadata": {},
   "outputs": [],
   "source": [
    "train_sampler[\"2018-01-08\", \"sh600519\"]  # get the time series by <'timestamp', 'instrument_id'> index"
   ]
  },
  {
   "attachments": {},
   "cell_type": "markdown",
   "id": "4e6ab197",
   "metadata": {},
   "source": [
    "### Off-the-shelf dataset\n",
    "\n",
    "Qlib integrated some dataset alreadly\n"
   ]
  },
  {
   "cell_type": "code",
   "execution_count": null,
   "id": "2e21b45c",
   "metadata": {
    "code_folding": []
   },
   "outputs": [],
   "source": [
    "handler_kwargs = {\n",
    "    \"start_time\": \"2008-01-01\",\n",
    "    \"end_time\": \"2020-08-01\",\n",
    "    \"fit_start_time\": \"2008-01-01\",\n",
    "    \"fit_end_time\": \"2014-12-31\",\n",
    "    \"instruments\": MARKET,\n",
    "}\n",
    "handler_conf = {\n",
    "    \"class\": \"Alpha158\",\n",
    "    \"module_path\": \"qlib.contrib.data.handler\",\n",
    "    \"kwargs\": handler_kwargs,\n",
    "}\n",
    "pprint(handler_conf)"
   ]
  },
  {
   "cell_type": "code",
   "execution_count": null,
   "id": "17077f0c",
   "metadata": {},
   "outputs": [],
   "source": [
    "from qlib.utils import init_instance_by_config"
   ]
  },
  {
   "cell_type": "code",
   "execution_count": null,
   "id": "6a20d9b2",
   "metadata": {},
   "outputs": [],
   "source": [
    "hd = init_instance_by_config(handler_conf)"
   ]
  },
  {
   "attachments": {},
   "cell_type": "markdown",
   "id": "5aa02379",
   "metadata": {},
   "source": [
    "Using config to create instance is a highly frequently used practice in Qlib\n",
    "(e.g. the\n",
    "[workflows configurations](https://github.com/microsoft/qlib/blob/main/examples/benchmarks/LightGBM/workflow_config_lightgbm_Alpha158.yaml)\n",
    "are based on it).\n",
    "\n",
    "The above configuration is the same as the code below\n"
   ]
  },
  {
   "cell_type": "code",
   "execution_count": null,
   "id": "480d35bf",
   "metadata": {},
   "outputs": [],
   "source": [
    "from qlib.contrib.data.handler import Alpha158\n",
    "\n",
    "hd = Alpha158(**handler_kwargs)"
   ]
  },
  {
   "attachments": {},
   "cell_type": "markdown",
   "id": "b170153d",
   "metadata": {},
   "source": [
    "This dataset has the same structure as the simple one with 1 column we created\n",
    "just now.\n"
   ]
  },
  {
   "cell_type": "code",
   "execution_count": null,
   "id": "735758e5",
   "metadata": {},
   "outputs": [],
   "source": [
    "df = hd.fetch()"
   ]
  },
  {
   "cell_type": "code",
   "execution_count": null,
   "id": "2b6de50c",
   "metadata": {},
   "outputs": [],
   "source": [
    "df"
   ]
  },
  {
   "cell_type": "code",
   "execution_count": null,
   "id": "cb1bc4fb",
   "metadata": {},
   "outputs": [],
   "source": [
    "hd.data_loader"
   ]
  },
  {
   "cell_type": "code",
   "execution_count": null,
   "id": "5a927f1c",
   "metadata": {},
   "outputs": [],
   "source": [
    "hd.data_loader.fields"
   ]
  },
  {
   "attachments": {},
   "cell_type": "markdown",
   "id": "f5a15747",
   "metadata": {},
   "source": [
    "#### some details\n",
    "\n",
    "The training data may not be the same as the test data.\n",
    "\n",
    "e.g.\n",
    "\n",
    "- the training dataset and test dataset use a different fitlering rules, data\n",
    "  processing\n"
   ]
  },
  {
   "cell_type": "code",
   "execution_count": null,
   "id": "cf2defa0",
   "metadata": {},
   "outputs": [],
   "source": [
    "hd.learn_processors"
   ]
  },
  {
   "cell_type": "code",
   "execution_count": null,
   "id": "ef55a881",
   "metadata": {},
   "outputs": [],
   "source": [
    "hd.infer_processors"
   ]
  },
  {
   "cell_type": "code",
   "execution_count": null,
   "id": "7af3b077",
   "metadata": {},
   "outputs": [],
   "source": [
    "hd.process_type  # appending type"
   ]
  },
  {
   "cell_type": "code",
   "execution_count": null,
   "id": "20127e19",
   "metadata": {},
   "outputs": [],
   "source": [
    "hd.fetch(col_set=\"label\", data_key=hd.DK_L)"
   ]
  },
  {
   "cell_type": "code",
   "execution_count": null,
   "id": "09c37d41",
   "metadata": {},
   "outputs": [],
   "source": [
    "hd.fetch(col_set=\"label\", data_key=hd.DK_I)"
   ]
  },
  {
   "cell_type": "code",
   "execution_count": null,
   "id": "ec2cfb12",
   "metadata": {},
   "outputs": [],
   "source": [
    "dataset_conf = {\n",
    "    \"class\": \"DatasetH\",\n",
    "    \"module_path\": \"qlib.data.dataset\",\n",
    "    \"kwargs\": {\n",
    "        \"handler\": hd,\n",
    "        \"segments\": {\n",
    "            \"train\": (\"2008-01-01\", \"2014-12-31\"),\n",
    "            \"valid\": (\"2015-01-01\", \"2016-12-31\"),\n",
    "            \"test\": (\"2017-01-01\", \"2020-08-01\"),\n",
    "        },\n",
    "    },\n",
    "}"
   ]
  },
  {
   "cell_type": "code",
   "execution_count": null,
   "id": "aca33c3c",
   "metadata": {},
   "outputs": [],
   "source": [
    "dataset = init_instance_by_config(dataset_conf)"
   ]
  },
  {
   "attachments": {},
   "cell_type": "markdown",
   "id": "0c89c15d",
   "metadata": {},
   "source": [
    "# Model Training & Inference\n",
    "\n",
    "[Model interface](https://github.com/microsoft/qlib/blob/main/qlib/model/base.py)\n"
   ]
  },
  {
   "cell_type": "code",
   "execution_count": null,
   "id": "0e916286",
   "metadata": {},
   "outputs": [],
   "source": [
    "from qlib.workflow import R\n",
    "from qlib.workflow.record_temp import SignalRecord, PortAnaRecord, SigAnaRecord"
   ]
  },
  {
   "cell_type": "code",
   "execution_count": null,
   "id": "f6975911",
   "metadata": {},
   "outputs": [],
   "source": [
    "model = init_instance_by_config(\n",
    "    {\n",
    "        \"class\": \"LGBModel\",\n",
    "        \"module_path\": \"qlib.contrib.model.gbdt\",\n",
    "        \"kwargs\": {\n",
    "            \"loss\": \"mse\",\n",
    "            \"colsample_bytree\": 0.8879,\n",
    "            \"learning_rate\": 0.0421,\n",
    "            \"subsample\": 0.8789,\n",
    "            \"lambda_l1\": 205.6999,\n",
    "            \"lambda_l2\": 580.9768,\n",
    "            \"max_depth\": 8,\n",
    "            \"num_leaves\": 210,\n",
    "            \"num_threads\": 20,\n",
    "        },\n",
    "    }\n",
    ")"
   ]
  },
  {
   "cell_type": "code",
   "execution_count": null,
   "id": "2e2dafb6",
   "metadata": {},
   "outputs": [],
   "source": [
    "# start exp to train model\n",
    "with R.start(experiment_name=EXP_NAME):\n",
    "    model.fit(dataset)\n",
    "    R.save_objects(trained_model=model)\n",
    "\n",
    "    rec = R.get_recorder()\n",
    "    rid = rec.id  # save the record id\n",
    "\n",
    "    # Inference and saving signal\n",
    "    sr = SignalRecord(model, dataset, rec)\n",
    "    sr.generate()"
   ]
  },
  {
   "attachments": {},
   "cell_type": "markdown",
   "id": "6b6b9f3d",
   "metadata": {},
   "source": [
    "# Evaluation:\n",
    "\n",
    "- Signal-based\n",
    "- Portfolio-based: backtest\n"
   ]
  },
  {
   "cell_type": "code",
   "execution_count": null,
   "id": "4328f881",
   "metadata": {},
   "outputs": [],
   "source": [
    "###################################\n",
    "# prediction, backtest & analysis\n",
    "###################################\n",
    "port_analysis_config = {\n",
    "    \"executor\": {\n",
    "        \"class\": \"SimulatorExecutor\",\n",
    "        \"module_path\": \"qlib.backtest.executor\",\n",
    "        \"kwargs\": {\n",
    "            \"time_per_step\": \"day\",\n",
    "            \"generate_portfolio_metrics\": True,\n",
    "        },\n",
    "    },\n",
    "    \"strategy\": {\n",
    "        \"class\": \"TopkDropoutStrategy\",\n",
    "        \"module_path\": \"qlib.contrib.strategy.signal_strategy\",\n",
    "        \"kwargs\": {\n",
    "            \"signal\": \"<PRED>\",\n",
    "            \"topk\": 50,\n",
    "            \"n_drop\": 5,\n",
    "        },\n",
    "    },\n",
    "    \"backtest\": {\n",
    "        \"start_time\": \"2017-01-01\",\n",
    "        \"end_time\": \"2020-08-01\",\n",
    "        \"account\": 100000000,\n",
    "        \"benchmark\": BENCHMARK,\n",
    "        \"exchange_kwargs\": {\n",
    "            \"freq\": \"day\",\n",
    "            \"limit_threshold\": 0.095,\n",
    "            \"deal_price\": \"close\",\n",
    "            \"open_cost\": 0.0005,\n",
    "            \"close_cost\": 0.0015,\n",
    "            \"min_cost\": 5,\n",
    "        },\n",
    "    },\n",
    "}\n",
    "\n",
    "# backtest and analysis\n",
    "with R.start(experiment_name=EXP_NAME, recorder_id=rid, resume=True):\n",
    "    # signal-based analysis\n",
    "    rec = R.get_recorder()\n",
    "    sar = SigAnaRecord(rec)\n",
    "    sar.generate()\n",
    "\n",
    "    #  portfolio-based analysis: backtest\n",
    "    par = PortAnaRecord(rec, port_analysis_config, \"day\")\n",
    "    par.generate()"
   ]
  },
  {
   "attachments": {},
   "cell_type": "markdown",
   "id": "d66ad59d",
   "metadata": {},
   "source": [
    "# Loading results & Analysis\n"
   ]
  },
  {
   "attachments": {},
   "cell_type": "markdown",
   "id": "3d7d7dea",
   "metadata": {},
   "source": [
    "## loading data\n",
    "\n",
    "Because Qlib leverage MLflow to save model & data. All the data can be access by\n",
    "`mlflow ui`\n"
   ]
  },
  {
   "cell_type": "code",
   "execution_count": null,
   "id": "1ec9dbb6",
   "metadata": {},
   "outputs": [],
   "source": [
    "# load recorder\n",
    "recorder = R.get_recorder(recorder_id=rid, experiment_name=EXP_NAME)"
   ]
  },
  {
   "cell_type": "code",
   "execution_count": null,
   "id": "25e72b0d",
   "metadata": {},
   "outputs": [],
   "source": [
    "# load previous results\n",
    "pred_df = recorder.load_object(\"pred.pkl\")\n",
    "report_normal_df = recorder.load_object(\"portfolio_analysis/report_normal_1day.pkl\")\n",
    "positions = recorder.load_object(\"portfolio_analysis/positions_normal_1day.pkl\")\n",
    "analysis_df = recorder.load_object(\"portfolio_analysis/port_analysis_1day.pkl\")"
   ]
  },
  {
   "cell_type": "code",
   "execution_count": null,
   "id": "dce3696b",
   "metadata": {},
   "outputs": [],
   "source": [
    "# Previous Model can be loaded. but it is not used.\n",
    "loaded_model = recorder.load_object(\"trained_model\")\n",
    "loaded_model"
   ]
  },
  {
   "cell_type": "code",
   "execution_count": null,
   "id": "cf8eca78",
   "metadata": {},
   "outputs": [],
   "source": [
    "from qlib.contrib.report import analysis_model, analysis_position"
   ]
  },
  {
   "attachments": {},
   "cell_type": "markdown",
   "id": "8d34b347",
   "metadata": {},
   "source": [
    "## analysis position\n"
   ]
  },
  {
   "attachments": {},
   "cell_type": "markdown",
   "id": "1cae642f",
   "metadata": {},
   "source": [
    "### report\n"
   ]
  },
  {
   "cell_type": "code",
   "execution_count": null,
   "id": "47c727b2",
   "metadata": {},
   "outputs": [],
   "source": [
    "analysis_position.report_graph(report_normal_df)"
   ]
  },
  {
   "attachments": {},
   "cell_type": "markdown",
   "id": "15b7ca14",
   "metadata": {},
   "source": [
    "### risk analysis\n"
   ]
  },
  {
   "cell_type": "code",
   "execution_count": null,
   "id": "3f100690",
   "metadata": {},
   "outputs": [],
   "source": [
    "analysis_position.risk_analysis_graph(analysis_df, report_normal_df)"
   ]
  },
  {
   "attachments": {},
   "cell_type": "markdown",
   "id": "2ed48aee",
   "metadata": {},
   "source": [
    "## analysis model\n"
   ]
  },
  {
   "cell_type": "code",
   "execution_count": null,
   "id": "aec13561",
   "metadata": {},
   "outputs": [],
   "source": [
    "label_df = dataset.prepare(\"test\", col_set=\"label\")\n",
    "label_df.columns = [\"label\"]"
   ]
  },
  {
   "attachments": {},
   "cell_type": "markdown",
   "id": "56d57363",
   "metadata": {},
   "source": [
    "### score IC\n"
   ]
  },
  {
   "cell_type": "code",
   "execution_count": null,
   "id": "7612533d",
   "metadata": {},
   "outputs": [],
   "source": [
    "pred_label = pd.concat([label_df, pred_df], axis=1, sort=True).reindex(label_df.index)\n",
    "analysis_position.score_ic_graph(pred_label)"
   ]
  },
  {
   "attachments": {},
   "cell_type": "markdown",
   "id": "589664c4",
   "metadata": {},
   "source": [
    "### model performance\n"
   ]
  },
  {
   "cell_type": "code",
   "execution_count": null,
   "id": "40258655",
   "metadata": {},
   "outputs": [],
   "source": [
    "analysis_model.model_performance_graph(pred_label)"
   ]
  }
 ],
 "metadata": {
  "jupytext": {
   "encoding": "# -*- coding: utf-8 -*-",
   "formats": "ipynb,py:percent"
  },
  "kernelspec": {
   "display_name": "Python 3 (ipykernel)",
   "language": "python",
   "name": "python3"
  },
  "language_info": {
   "codemirror_mode": {
    "name": "ipython",
    "version": 3
   },
   "file_extension": ".py",
   "mimetype": "text/x-python",
   "name": "python",
   "nbconvert_exporter": "python",
   "pygments_lexer": "ipython3",
   "version": "3.8.10"
  },
  "toc": {
   "base_numbering": 1,
   "nav_menu": {},
   "number_sections": true,
   "sideBar": true,
   "skip_h1_title": false,
   "title_cell": "Table of Contents",
   "title_sidebar": "Contents",
   "toc_cell": false,
   "toc_position": {},
   "toc_section_display": true,
   "toc_window_display": true
  }
 },
 "nbformat": 4,
 "nbformat_minor": 5
}
